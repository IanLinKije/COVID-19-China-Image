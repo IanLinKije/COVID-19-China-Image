{
 "cells": [
  {
   "cell_type": "code",
   "execution_count": 8,
   "metadata": {},
   "outputs": [
    {
     "name": "stdout",
     "output_type": "stream",
     "text": [
      "/Users/lin/Desktop/personal/corona/Corona_NLP_train.csv\n",
      "/Users/lin/Desktop/personal/corona/Corona_NLP_test.csv\n",
      "/Users/lin/Desktop/personal/corona/Corona_NLP_train1.csv\n"
     ]
    }
   ],
   "source": [
    "import numpy as np # linear algebra\n",
    "import pandas as pd # data processing, CSV file I/O (e.g. pd.read_csv)\n",
    "import matplotlib.pyplot as plt\n",
    "import re\n",
    "import string\n",
    "from sklearn.metrics import confusion_matrix\n",
    "from sklearn.metrics import accuracy_score\n",
    "from sklearn.linear_model import LogisticRegression\n",
    "from sklearn.model_selection import train_test_split\n",
    "\n",
    "from numpy import array\n",
    "from keras.preprocessing.text import one_hot\n",
    "from keras.preprocessing.sequence import pad_sequences\n",
    "from keras.models import Sequential\n",
    "from keras.layers import Dense\n",
    "from keras.layers import LSTM\n",
    "from keras.layers import Flatten\n",
    "from keras.layers.embeddings import Embedding\n",
    "from keras.preprocessing.text import Tokenizer\n",
    "\n",
    "# Input data files are available in the read-only \"../input/\" directory\n",
    "# For example, running this (by clicking run or pressing Shift+Enter) will list all files under the input directory\n",
    "\n",
    "import os\n",
    "for dirname, _, filenames in os.walk('/Users/lin/Desktop/personal/corona'):\n",
    "    for filename in filenames:\n",
    "        print(os.path.join(dirname, filename))\n",
    "\n",
    "# You can write up to 20GB to the current directory (/kaggle/working/) that gets preserved as output when you create a version using \"Save & Run All\" \n",
    "# You can also write temporary files to /kaggle/temp/, but they won't be saved outside of the current session"
   ]
  },
  {
   "cell_type": "code",
   "execution_count": 9,
   "metadata": {},
   "outputs": [],
   "source": [
    "train = pd.read_csv('/Users/lin/Desktop/personal/corona/Corona_NLP_train.csv', encoding='latin-1')\n",
    "test = pd.read_csv('/Users/lin/Desktop/personal/corona/Corona_NLP_test.csv', encoding='latin-1')"
   ]
  },
  {
   "cell_type": "code",
   "execution_count": 10,
   "metadata": {},
   "outputs": [
    {
     "name": "stdout",
     "output_type": "stream",
     "text": [
      "<class 'pandas.core.frame.DataFrame'>\n",
      "RangeIndex: 41157 entries, 0 to 41156\n",
      "Data columns (total 6 columns):\n",
      " #   Column         Non-Null Count  Dtype \n",
      "---  ------         --------------  ----- \n",
      " 0   UserName       41157 non-null  int64 \n",
      " 1   ScreenName     41157 non-null  int64 \n",
      " 2   Location       32567 non-null  object\n",
      " 3   TweetAt        41157 non-null  object\n",
      " 4   OriginalTweet  41157 non-null  object\n",
      " 5   Sentiment      41157 non-null  object\n",
      "dtypes: int64(2), object(4)\n",
      "memory usage: 1.9+ MB\n"
     ]
    }
   ],
   "source": [
    "#Get summary of the training data\n",
    "train.info()"
   ]
  },
  {
   "cell_type": "code",
   "execution_count": 11,
   "metadata": {},
   "outputs": [
    {
     "data": {
      "text/html": [
       "<div>\n",
       "<style scoped>\n",
       "    .dataframe tbody tr th:only-of-type {\n",
       "        vertical-align: middle;\n",
       "    }\n",
       "\n",
       "    .dataframe tbody tr th {\n",
       "        vertical-align: top;\n",
       "    }\n",
       "\n",
       "    .dataframe thead th {\n",
       "        text-align: right;\n",
       "    }\n",
       "</style>\n",
       "<table border=\"1\" class=\"dataframe\">\n",
       "  <thead>\n",
       "    <tr style=\"text-align: right;\">\n",
       "      <th></th>\n",
       "      <th>UserName</th>\n",
       "      <th>ScreenName</th>\n",
       "      <th>Location</th>\n",
       "      <th>TweetAt</th>\n",
       "      <th>OriginalTweet</th>\n",
       "      <th>Sentiment</th>\n",
       "    </tr>\n",
       "  </thead>\n",
       "  <tbody>\n",
       "    <tr>\n",
       "      <th>0</th>\n",
       "      <td>3799</td>\n",
       "      <td>48751</td>\n",
       "      <td>London</td>\n",
       "      <td>16-03-2020</td>\n",
       "      <td>@MeNyrbie @Phil_Gahan @Chrisitv https://t.co/i...</td>\n",
       "      <td>Neutral</td>\n",
       "    </tr>\n",
       "    <tr>\n",
       "      <th>1</th>\n",
       "      <td>3800</td>\n",
       "      <td>48752</td>\n",
       "      <td>UK</td>\n",
       "      <td>16-03-2020</td>\n",
       "      <td>advice Talk to your neighbours family to excha...</td>\n",
       "      <td>Positive</td>\n",
       "    </tr>\n",
       "    <tr>\n",
       "      <th>2</th>\n",
       "      <td>3801</td>\n",
       "      <td>48753</td>\n",
       "      <td>Vagabonds</td>\n",
       "      <td>16-03-2020</td>\n",
       "      <td>Coronavirus Australia: Woolworths to give elde...</td>\n",
       "      <td>Positive</td>\n",
       "    </tr>\n",
       "    <tr>\n",
       "      <th>3</th>\n",
       "      <td>3802</td>\n",
       "      <td>48754</td>\n",
       "      <td>NaN</td>\n",
       "      <td>16-03-2020</td>\n",
       "      <td>My food stock is not the only one which is emp...</td>\n",
       "      <td>Positive</td>\n",
       "    </tr>\n",
       "    <tr>\n",
       "      <th>4</th>\n",
       "      <td>3803</td>\n",
       "      <td>48755</td>\n",
       "      <td>NaN</td>\n",
       "      <td>16-03-2020</td>\n",
       "      <td>Me, ready to go at supermarket during the #COV...</td>\n",
       "      <td>Extremely Negative</td>\n",
       "    </tr>\n",
       "  </tbody>\n",
       "</table>\n",
       "</div>"
      ],
      "text/plain": [
       "   UserName  ScreenName   Location     TweetAt  \\\n",
       "0      3799       48751     London  16-03-2020   \n",
       "1      3800       48752         UK  16-03-2020   \n",
       "2      3801       48753  Vagabonds  16-03-2020   \n",
       "3      3802       48754        NaN  16-03-2020   \n",
       "4      3803       48755        NaN  16-03-2020   \n",
       "\n",
       "                                       OriginalTweet           Sentiment  \n",
       "0  @MeNyrbie @Phil_Gahan @Chrisitv https://t.co/i...             Neutral  \n",
       "1  advice Talk to your neighbours family to excha...            Positive  \n",
       "2  Coronavirus Australia: Woolworths to give elde...            Positive  \n",
       "3  My food stock is not the only one which is emp...            Positive  \n",
       "4  Me, ready to go at supermarket during the #COV...  Extremely Negative  "
      ]
     },
     "execution_count": 11,
     "metadata": {},
     "output_type": "execute_result"
    }
   ],
   "source": [
    "train.head()"
   ]
  },
  {
   "cell_type": "code",
   "execution_count": 12,
   "metadata": {},
   "outputs": [
    {
     "name": "stdout",
     "output_type": "stream",
     "text": [
      "<class 'pandas.core.frame.DataFrame'>\n",
      "Int64Index: 44955 entries, 0 to 3797\n",
      "Data columns (total 6 columns):\n",
      " #   Column         Non-Null Count  Dtype \n",
      "---  ------         --------------  ----- \n",
      " 0   UserName       44955 non-null  int64 \n",
      " 1   ScreenName     44955 non-null  int64 \n",
      " 2   Location       35531 non-null  object\n",
      " 3   TweetAt        44955 non-null  object\n",
      " 4   OriginalTweet  44955 non-null  object\n",
      " 5   Sentiment      44955 non-null  object\n",
      "dtypes: int64(2), object(4)\n",
      "memory usage: 2.4+ MB\n"
     ]
    }
   ],
   "source": [
    "#combine the training and testing data t\n",
    "frames = [train, test]\n",
    "data = pd.concat(frames)\n",
    "data.info()"
   ]
  },
  {
   "cell_type": "code",
   "execution_count": 13,
   "metadata": {},
   "outputs": [
    {
     "name": "stdout",
     "output_type": "stream",
     "text": [
      "      UserName  ScreenName Location     TweetAt  \\\n",
      "3         3802       48754      NaN  16-03-2020   \n",
      "4         3803       48755      NaN  16-03-2020   \n",
      "14        3813       48765      NaN  16-03-2020   \n",
      "22        3821       48773      NaN  16-03-2020   \n",
      "23        3822       48774      NaN  16-03-2020   \n",
      "...        ...         ...      ...         ...   \n",
      "3767      3768       48720      NaN  16-03-2020   \n",
      "3777      3778       48730      NaN  16-03-2020   \n",
      "3778      3779       48731      NaN  16-03-2020   \n",
      "3779      3780       48732      NaN  16-03-2020   \n",
      "3796      3797       48749      NaN  16-03-2020   \n",
      "\n",
      "                                          OriginalTweet           Sentiment  \n",
      "3     My food stock is not the only one which is emp...            Positive  \n",
      "4     Me, ready to go at supermarket during the #COV...  Extremely Negative  \n",
      "14    ADARA Releases COVID-19 Resource Center for Tr...            Positive  \n",
      "22    We have AMAZING CHEAP DEALS! FOR THE #COVID201...  Extremely Positive  \n",
      "23    We have AMAZING CHEAP DEALS! FOR THE #COVID201...  Extremely Positive  \n",
      "...                                                 ...                 ...  \n",
      "3767  Rough weekend at Albert Heijn supermarket. To ...            Positive  \n",
      "3777  Waiting in a line in 1 meter distance from eac...             Neutral  \n",
      "3778  In light of the ongoing and rapidly evolving C...             Neutral  \n",
      "3779  Stuck inside?  How about getting some reading ...            Positive  \n",
      "3796  Gov need to do somethings instead of biar je r...  Extremely Negative  \n",
      "\n",
      "[9424 rows x 6 columns]\n"
     ]
    }
   ],
   "source": [
    "#check for missing data \n",
    "missing = data['Location'].isnull()\n",
    "print(data[missing])"
   ]
  },
  {
   "cell_type": "code",
   "execution_count": 14,
   "metadata": {},
   "outputs": [],
   "source": [
    "#replace missing data \n",
    "data['Location'] = data['Location'].replace(np.nan, \"Unknown\")\n",
    "#test['Location'] = test['Location'].replace(np.nan, \"Unknown\")"
   ]
  },
  {
   "cell_type": "code",
   "execution_count": 15,
   "metadata": {},
   "outputs": [
    {
     "data": {
      "text/html": [
       "<div>\n",
       "<style scoped>\n",
       "    .dataframe tbody tr th:only-of-type {\n",
       "        vertical-align: middle;\n",
       "    }\n",
       "\n",
       "    .dataframe tbody tr th {\n",
       "        vertical-align: top;\n",
       "    }\n",
       "\n",
       "    .dataframe thead th {\n",
       "        text-align: right;\n",
       "    }\n",
       "</style>\n",
       "<table border=\"1\" class=\"dataframe\">\n",
       "  <thead>\n",
       "    <tr style=\"text-align: right;\">\n",
       "      <th></th>\n",
       "      <th>UserName</th>\n",
       "      <th>ScreenName</th>\n",
       "      <th>Location</th>\n",
       "      <th>TweetAt</th>\n",
       "      <th>OriginalTweet</th>\n",
       "      <th>Sentiment</th>\n",
       "    </tr>\n",
       "  </thead>\n",
       "  <tbody>\n",
       "  </tbody>\n",
       "</table>\n",
       "</div>"
      ],
      "text/plain": [
       "Empty DataFrame\n",
       "Columns: [UserName, ScreenName, Location, TweetAt, OriginalTweet, Sentiment]\n",
       "Index: []"
      ]
     },
     "execution_count": 15,
     "metadata": {},
     "output_type": "execute_result"
    }
   ],
   "source": [
    "#check again for missing data\n",
    "data[data['Location'].isnull()]"
   ]
  },
  {
   "cell_type": "code",
   "execution_count": 16,
   "metadata": {},
   "outputs": [
    {
     "data": {
      "text/html": [
       "<div>\n",
       "<style scoped>\n",
       "    .dataframe tbody tr th:only-of-type {\n",
       "        vertical-align: middle;\n",
       "    }\n",
       "\n",
       "    .dataframe tbody tr th {\n",
       "        vertical-align: top;\n",
       "    }\n",
       "\n",
       "    .dataframe thead th {\n",
       "        text-align: right;\n",
       "    }\n",
       "</style>\n",
       "<table border=\"1\" class=\"dataframe\">\n",
       "  <thead>\n",
       "    <tr style=\"text-align: right;\">\n",
       "      <th></th>\n",
       "      <th>UserName</th>\n",
       "      <th>ScreenName</th>\n",
       "      <th>Location</th>\n",
       "      <th>TweetAt</th>\n",
       "      <th>OriginalTweet</th>\n",
       "      <th>Sentiment</th>\n",
       "    </tr>\n",
       "  </thead>\n",
       "  <tbody>\n",
       "  </tbody>\n",
       "</table>\n",
       "</div>"
      ],
      "text/plain": [
       "Empty DataFrame\n",
       "Columns: [UserName, ScreenName, Location, TweetAt, OriginalTweet, Sentiment]\n",
       "Index: []"
      ]
     },
     "execution_count": 16,
     "metadata": {},
     "output_type": "execute_result"
    }
   ],
   "source": [
    "#check for duplicates in the data\n",
    "dups = data.duplicated()\n",
    "data[dups]"
   ]
  },
  {
   "cell_type": "code",
   "execution_count": 17,
   "metadata": {},
   "outputs": [
    {
     "name": "stdout",
     "output_type": "stream",
     "text": [
      "13127\n"
     ]
    }
   ],
   "source": [
    "# Check for Locations distribution\n",
    "loc_dist = data['Location'].unique()\n",
    "print(len(loc_dist))"
   ]
  },
  {
   "cell_type": "code",
   "execution_count": 18,
   "metadata": {},
   "outputs": [
    {
     "name": "stdout",
     "output_type": "stream",
     "text": [
      "<class 'pandas.core.frame.DataFrame'>\n",
      "Int64Index: 44955 entries, 0 to 3797\n",
      "Data columns (total 6 columns):\n",
      " #   Column         Non-Null Count  Dtype \n",
      "---  ------         --------------  ----- \n",
      " 0   UserName       44955 non-null  int64 \n",
      " 1   ScreenName     44955 non-null  int64 \n",
      " 2   Location       44955 non-null  object\n",
      " 3   TweetAt        44955 non-null  object\n",
      " 4   OriginalTweet  44955 non-null  object\n",
      " 5   Sentiment      44955 non-null  object\n",
      "dtypes: int64(2), object(4)\n",
      "memory usage: 2.4+ MB\n"
     ]
    }
   ],
   "source": [
    "#summary of the whole data\n",
    "data.info()"
   ]
  },
  {
   "cell_type": "code",
   "execution_count": 19,
   "metadata": {},
   "outputs": [],
   "source": [
    "#plot total negative vs total positive\n",
    "pos  = len(data[data['Sentiment'] == 'Positive'])\n",
    "ext_pos = len(data[data['Sentiment'] == 'Extremely Positive'])\n",
    "\n",
    "neut =len(data[data['Sentiment'] == 'Neutral'])\n",
    "\n",
    "neg = len(data[data['Sentiment'] == 'Negative'])\n",
    "ext_neg = len(data[data['Sentiment'] == 'Extremely Negative'])\n",
    "\n",
    "total_positive = pos + ext_pos\n",
    "total_negative = neg + ext_neg\n",
    "\n",
    "tt_label = [\"Total Positive\", \"Neutral\", \"Total Negative\"]\n",
    "tt = [total_positive, neut, total_negative]"
   ]
  },
  {
   "cell_type": "code",
   "execution_count": 20,
   "metadata": {},
   "outputs": [
    {
     "data": {
      "image/png": "[encoded data removed]",
      "text/plain": [
       "<Figure size 432x288 with 1 Axes>"
      ]
     },
     "metadata": {
      "needs_background": "light"
     },
     "output_type": "display_data"
    }
   ],
   "source": [
    "plt.bar(tt_label, tt)\n",
    "plt.show()"
   ]
  },
  {
   "cell_type": "code",
   "execution_count": 21,
   "metadata": {},
   "outputs": [
    {
     "data": {
      "image/png": "[encoded data removed]",
      "text/plain": [
       "<Figure size 432x288 with 1 Axes>"
      ]
     },
     "metadata": {},
     "output_type": "display_data"
    }
   ],
   "source": [
    "plt.pie(tt, labels=tt_label, autopct='%1.1f%%')\n",
    "plt.show()"
   ]
  },
  {
   "cell_type": "code",
   "execution_count": 22,
   "metadata": {},
   "outputs": [
    {
     "data": {
      "text/plain": [
       "Positive              12369\n",
       "Negative              10958\n",
       "Neutral                8332\n",
       "Extremely Positive     7223\n",
       "Extremely Negative     6073\n",
       "Name: Sentiment, dtype: int64"
      ]
     },
     "execution_count": 22,
     "metadata": {},
     "output_type": "execute_result"
    }
   ],
   "source": [
    "sentiment_count = data['Sentiment'].value_counts()\n",
    "sentiment_count"
   ]
  },
  {
   "cell_type": "code",
   "execution_count": 23,
   "metadata": {},
   "outputs": [
    {
     "data": {
      "image/png": "[encoded data removed]",
      "text/plain": [
       "<Figure size 432x288 with 1 Axes>"
      ]
     },
     "metadata": {
      "needs_background": "light"
     },
     "output_type": "display_data"
    }
   ],
   "source": [
    "#plot\n",
    "plt.bar(sentiment_count.index,sentiment_count)\n",
    "plt.xticks(rotation=90)\n",
    "plt.show()"
   ]
  },
  {
   "cell_type": "code",
   "execution_count": 24,
   "metadata": {},
   "outputs": [
    {
     "data": {
      "image/png": "[encoded data removed]",
      "text/plain": [
       "<Figure size 432x288 with 1 Axes>"
      ]
     },
     "metadata": {},
     "output_type": "display_data"
    }
   ],
   "source": [
    "#plot\n",
    "plt.pie(sentiment_count, labels=sentiment_count.index, autopct='%1.1f%%')\n",
    "#plt.legend('upper right')\n",
    "plt.show()"
   ]
  },
  {
   "cell_type": "code",
   "execution_count": 25,
   "metadata": {},
   "outputs": [
    {
     "name": "stdout",
     "output_type": "stream",
     "text": [
      "['16-03-2020' '17-03-2020' '18-03-2020' '19-03-2020' '20-03-2020'\n",
      " '21-03-2020' '22-03-2020' '23-03-2020' '24-03-2020' '25-03-2020'\n",
      " '26-03-2020' '27-03-2020' '28-03-2020' '29-03-2020' '30-03-2020'\n",
      " '31-03-2020' '01-04-2020' '02-04-2020' '03-04-2020' '04-04-2020'\n",
      " '05-04-2020' '06-04-2020' '07-04-2020' '08-04-2020' '09-04-2020'\n",
      " '10-04-2020' '11-04-2020' '12-04-2020' '13-04-2020' '14-04-2020'\n",
      " '02-03-2020' '03-03-2020' '04-03-2020' '05-03-2020' '06-03-2020'\n",
      " '07-03-2020' '08-03-2020' '09-03-2020' '10-03-2020' '11-03-2020'\n",
      " '12-03-2020' '13-03-2020' '14-03-2020' '15-03-2020']\n"
     ]
    }
   ],
   "source": [
    "#time series - start of date and end date - line plot frequency of positive and negative\n",
    "day_total = data['TweetAt'].unique()\n",
    "print(day_total)"
   ]
  },
  {
   "cell_type": "code",
   "execution_count": 26,
   "metadata": {},
   "outputs": [],
   "source": [
    "#vectorizer:\n",
    "from sklearn.feature_extraction.text import CountVectorizer\n",
    "vectorizer = CountVectorizer(token_pattern=r'\\b\\w+\\b')\n",
    "train_matrix = vectorizer.fit_transform(train['OriginalTweet'])\n",
    "test_matrix = vectorizer.transform(test['OriginalTweet'])"
   ]
  },
  {
   "cell_type": "code",
   "execution_count": 27,
   "metadata": {},
   "outputs": [],
   "source": [
    "X_train1 = train_matrix\n",
    "X_test1 = test_matrix\n",
    "#y_train = train['sentiment']\n",
    "#y_test = test['sentiment']"
   ]
  },
  {
   "cell_type": "code",
   "execution_count": 28,
   "metadata": {},
   "outputs": [],
   "source": [
    "from sklearn import preprocessing\n",
    "le = preprocessing.LabelEncoder()\n",
    "\n",
    "lab = train['Sentiment']\n",
    "y_train1 = le.fit_transform(lab)\n",
    "y_test1 = le.fit_transform(test['Sentiment'])"
   ]
  },
  {
   "cell_type": "markdown",
   "metadata": {},
   "source": [
    "# LR"
   ]
  },
  {
   "cell_type": "code",
   "execution_count": 75,
   "metadata": {},
   "outputs": [
    {
     "name": "stdout",
     "output_type": "stream",
     "text": [
      "[3 4 4 2 3 3 4 2 0 4]\n"
     ]
    }
   ],
   "source": [
    "#The model\n",
    "lr = LogisticRegression(max_iter=10000)\n",
    "#Training the model\n",
    "lr.fit(X_train1,y_train1)\n",
    "#Make predictions\n",
    "predictions1 = lr.predict(X_test1)\n",
    "print(predictions1[:10])"
   ]
  },
  {
   "cell_type": "code",
   "execution_count": 76,
   "metadata": {},
   "outputs": [
    {
     "data": {
      "text/plain": [
       "array(['Negative', 'Neutral', 'Neutral', 'Extremely Positive', 'Negative',\n",
       "       'Negative', 'Neutral', 'Extremely Positive', 'Extremely Negative',\n",
       "       'Neutral'], dtype=object)"
      ]
     },
     "execution_count": 76,
     "metadata": {},
     "output_type": "execute_result"
    }
   ],
   "source": [
    "#Show the results of the predictions\n",
    "lab_names = test['Sentiment'].unique()\n",
    "lab_names[predictions1[:10]]"
   ]
  },
  {
   "cell_type": "code",
   "execution_count": 77,
   "metadata": {},
   "outputs": [
    {
     "data": {
      "text/plain": [
       "array([[327,   5, 139,   7,  25],\n",
       "       [  7, 365,  25,   7, 108],\n",
       "       [220,  21, 580,  87, 129],\n",
       "       [ 13,   8, 122, 442,  92],\n",
       "       [ 25, 200, 175,  76, 593]])"
      ]
     },
     "execution_count": 77,
     "metadata": {},
     "output_type": "execute_result"
    }
   ],
   "source": [
    "# find accuracy, precision, recall:\n",
    "from sklearn.metrics import confusion_matrix,classification_report\n",
    "new = np.asarray(y_test1)\n",
    "confusion_matrix(predictions1,y_test1)"
   ]
  },
  {
   "cell_type": "code",
   "execution_count": 144,
   "metadata": {},
   "outputs": [
    {
     "name": "stdout",
     "output_type": "stream",
     "text": [
      "              precision    recall  f1-score   support\n",
      "\n",
      "           0       0.55      0.65      0.60       502\n",
      "           1       0.61      0.71      0.66       511\n",
      "           2       0.56      0.56      0.56      1038\n",
      "           3       0.71      0.65      0.68       677\n",
      "           4       0.63      0.56      0.59      1070\n",
      "\n",
      "    accuracy                           0.61      3798\n",
      "   macro avg       0.61      0.63      0.62      3798\n",
      "weighted avg       0.61      0.61      0.61      3798\n",
      "\n"
     ]
    }
   ],
   "source": [
    "print(classification_report(predictions1,y_test1))"
   ]
  },
  {
   "cell_type": "markdown",
   "metadata": {},
   "source": [
    "# LSTM"
   ]
  },
  {
   "cell_type": "code",
   "execution_count": 58,
   "metadata": {},
   "outputs": [
    {
     "data": {
      "text/plain": [
       "0       @MeNyrbie @Phil_Gahan @Chrisitv https://t.co/i...\n",
       "1       advice Talk to your neighbours family to excha...\n",
       "2       Coronavirus Australia: Woolworths to give elde...\n",
       "3       My food stock is not the only one which is emp...\n",
       "4       Me, ready to go at supermarket during the #COV...\n",
       "                              ...                        \n",
       "3793    Meanwhile In A Supermarket in Israel -- People...\n",
       "3794    Did you panic buy a lot of non-perishable item...\n",
       "3795    Asst Prof of Economics @cconces was on @NBCPhi...\n",
       "3796    Gov need to do somethings instead of biar je r...\n",
       "3797    I and @ForestandPaper members are committed to...\n",
       "Name: OriginalTweet, Length: 44955, dtype: object"
      ]
     },
     "execution_count": 58,
     "metadata": {},
     "output_type": "execute_result"
    }
   ],
   "source": [
    "#Get Text data from the Tweet Column\n",
    "corpus = data['OriginalTweet']\n",
    "corpus"
   ]
  },
  {
   "cell_type": "code",
   "execution_count": 59,
   "metadata": {},
   "outputs": [
    {
     "name": "stdout",
     "output_type": "stream",
     "text": [
      "      Extremely Negative  Extremely Positive  Negative  Neutral  Positive\n",
      "0                      0                   0         0        1         0\n",
      "1                      0                   0         0        0         1\n",
      "2                      0                   0         0        0         1\n",
      "3                      0                   0         0        0         1\n",
      "4                      1                   0         0        0         0\n",
      "...                  ...                 ...       ...      ...       ...\n",
      "3793                   0                   0         0        0         1\n",
      "3794                   0                   0         1        0         0\n",
      "3795                   0                   0         0        1         0\n",
      "3796                   1                   0         0        0         0\n",
      "3797                   0                   1         0        0         0\n",
      "\n",
      "[44955 rows x 5 columns]\n"
     ]
    }
   ],
   "source": [
    "#One-Hot Encoding of the labels\n",
    "sentiment = pd.get_dummies(data['Sentiment'])\n",
    "print(sentiment)"
   ]
  },
  {
   "cell_type": "code",
   "execution_count": 60,
   "metadata": {},
   "outputs": [
    {
     "name": "stdout",
     "output_type": "stream",
     "text": [
      "44955\n",
      "44955\n"
     ]
    }
   ],
   "source": [
    "print(len(corpus))\n",
    "print(len(sentiment))"
   ]
  },
  {
   "cell_type": "code",
   "execution_count": 61,
   "metadata": {},
   "outputs": [],
   "source": [
    "#Words Tokenization\n",
    "from nltk.tokenize import word_tokenize\n",
    "\n",
    "all_words = []\n",
    "for sent in corpus:\n",
    "    tokenize_word = word_tokenize(sent)\n",
    "    for word in tokenize_word:\n",
    "        all_words.append(word)"
   ]
  },
  {
   "cell_type": "code",
   "execution_count": 62,
   "metadata": {},
   "outputs": [
    {
     "name": "stdout",
     "output_type": "stream",
     "text": [
      "107050\n"
     ]
    }
   ],
   "source": [
    "#Extract each word while ignoring duplicates\n",
    "unique_words = set(all_words)\n",
    "print(len(unique_words))"
   ]
  },
  {
   "cell_type": "code",
   "execution_count": 63,
   "metadata": {},
   "outputs": [],
   "source": [
    "vocab_length = 101948\n",
    "embedded_sentences = [one_hot(sent, vocab_length) for sent in corpus]\n",
    "#print(embedded_sentences )"
   ]
  },
  {
   "cell_type": "code",
   "execution_count": 64,
   "metadata": {},
   "outputs": [],
   "source": [
    "#count number of words\n",
    "word_count = lambda sentence: len(word_tokenize(sentence))\n",
    "longest_sentence = max(corpus, key=word_count)\n",
    "length_long_sentence = len(word_tokenize(longest_sentence))"
   ]
  },
  {
   "cell_type": "code",
   "execution_count": 65,
   "metadata": {},
   "outputs": [
    {
     "name": "stdout",
     "output_type": "stream",
     "text": [
      "[[ 98219  31356  51537 ...      0      0      0]\n",
      " [100721  76089   4306 ...      0      0      0]\n",
      " [ 42642  79097  90941 ...      0      0      0]\n",
      " ...\n",
      " [  3202  69775  44704 ...      0      0      0]\n",
      " [ 87121 101576   4306 ...      0      0      0]\n",
      " [  7045  35554  78579 ...      0      0      0]]\n"
     ]
    }
   ],
   "source": [
    "#Fill the end of each sentence with '0' so that they all have same lenght\n",
    "padded_sentences = pad_sequences(embedded_sentences, length_long_sentence, padding='post')\n",
    "print(padded_sentences)"
   ]
  },
  {
   "cell_type": "code",
   "execution_count": 66,
   "metadata": {},
   "outputs": [
    {
     "data": {
      "text/plain": [
       "44955"
      ]
     },
     "execution_count": 66,
     "metadata": {},
     "output_type": "execute_result"
    }
   ],
   "source": [
    "len(padded_sentences)"
   ]
  },
  {
   "cell_type": "code",
   "execution_count": 67,
   "metadata": {},
   "outputs": [],
   "source": [
    "#divide the data into Training and Testing\n",
    "\n",
    "X_train,X_test, y_train, y_test = train_test_split(padded_sentences, sentiment, train_size=0.9, random_state=42)"
   ]
  },
  {
   "cell_type": "code",
   "execution_count": 68,
   "metadata": {},
   "outputs": [],
   "source": [
    "#Build the Model \n",
    "model = Sequential()\n",
    "model.add(Embedding(vocab_length, 20, input_length=length_long_sentence))\n",
    "model.add(LSTM(20, return_sequences=True))\n",
    "model.add(Dense(100, activation='relu'))\n",
    "model.add(Flatten())\n",
    "model.add(Dense(5, activation='softmax'))"
   ]
  },
  {
   "cell_type": "code",
   "execution_count": 69,
   "metadata": {},
   "outputs": [
    {
     "name": "stdout",
     "output_type": "stream",
     "text": [
      "Model: \"sequential\"\n",
      "_________________________________________________________________\n",
      "Layer (type)                 Output Shape              Param #   \n",
      "=================================================================\n",
      "embedding (Embedding)        (None, 235, 20)           2038960   \n",
      "_________________________________________________________________\n",
      "lstm (LSTM)                  (None, 235, 20)           3280      \n",
      "_________________________________________________________________\n",
      "dense (Dense)                (None, 235, 100)          2100      \n",
      "_________________________________________________________________\n",
      "flatten (Flatten)            (None, 23500)             0         \n",
      "_________________________________________________________________\n",
      "dense_1 (Dense)              (None, 5)                 117505    \n",
      "=================================================================\n",
      "Total params: 2,161,845\n",
      "Trainable params: 2,161,845\n",
      "Non-trainable params: 0\n",
      "_________________________________________________________________\n",
      "None\n"
     ]
    }
   ],
   "source": [
    "#compile model and show summary\n",
    "model.compile(optimizer='adam', loss='categorical_crossentropy', metrics=['acc'])\n",
    "print(model.summary())"
   ]
  },
  {
   "cell_type": "code",
   "execution_count": 70,
   "metadata": {},
   "outputs": [
    {
     "name": "stdout",
     "output_type": "stream",
     "text": [
      "Epoch 1/15\n",
      "200/200 [==============================] - 48s 228ms/step - loss: 1.4506 - acc: 0.3430\n",
      "Epoch 2/15\n",
      "200/200 [==============================] - 45s 225ms/step - loss: 0.7344 - acc: 0.7314\n",
      "Epoch 3/15\n",
      "200/200 [==============================] - 44s 221ms/step - loss: 0.4652 - acc: 0.8495\n",
      "Epoch 4/15\n",
      "200/200 [==============================] - 44s 222ms/step - loss: 0.3299 - acc: 0.8966\n",
      "Epoch 5/15\n",
      "200/200 [==============================] - 43s 217ms/step - loss: 0.2526 - acc: 0.9244\n",
      "Epoch 6/15\n",
      "200/200 [==============================] - 46s 229ms/step - loss: 0.1953 - acc: 0.9415\n",
      "Epoch 7/15\n",
      "200/200 [==============================] - 43s 215ms/step - loss: 0.1585 - acc: 0.9544\n",
      "Epoch 8/15\n",
      "200/200 [==============================] - 51s 256ms/step - loss: 0.1388 - acc: 0.9613\n",
      "Epoch 9/15\n",
      "200/200 [==============================] - 42s 208ms/step - loss: 0.1092 - acc: 0.9684\n",
      "Epoch 10/15\n",
      "200/200 [==============================] - 48s 242ms/step - loss: 0.0901 - acc: 0.9754\n",
      "Epoch 11/15\n",
      "200/200 [==============================] - 43s 214ms/step - loss: 0.0782 - acc: 0.9789\n",
      "Epoch 12/15\n",
      "200/200 [==============================] - 41s 204ms/step - loss: 0.0753 - acc: 0.9779\n",
      "Epoch 13/15\n",
      "200/200 [==============================] - 38s 190ms/step - loss: 0.0614 - acc: 0.9828\n",
      "Epoch 14/15\n",
      "200/200 [==============================] - 38s 189ms/step - loss: 0.0511 - acc: 0.9853\n",
      "Epoch 15/15\n",
      "200/200 [==============================] - 38s 191ms/step - loss: 0.0434 - acc: 0.9879\n"
     ]
    },
    {
     "data": {
      "text/plain": [
       "<tensorflow.python.keras.callbacks.History at 0x16fc3fa00>"
      ]
     },
     "execution_count": 70,
     "metadata": {},
     "output_type": "execute_result"
    }
   ],
   "source": [
    "#train the model\n",
    "\n",
    "model.fit(X_train, y_train, epochs=15, steps_per_epoch=200, verbose=1)"
   ]
  },
  {
   "cell_type": "code",
   "execution_count": 71,
   "metadata": {},
   "outputs": [
    {
     "name": "stdout",
     "output_type": "stream",
     "text": [
      "Accuracy: 95.408744\n"
     ]
    }
   ],
   "source": [
    "#Evaluate model performance\n",
    "loss, accuracy = model.evaluate(padded_sentences, sentiment, verbose=0)\n",
    "print('Accuracy: %f' % (accuracy*100))"
   ]
  },
  {
   "cell_type": "code",
   "execution_count": 72,
   "metadata": {},
   "outputs": [],
   "source": [
    "predictions = model.predict(X_test)"
   ]
  },
  {
   "cell_type": "code",
   "execution_count": 73,
   "metadata": {},
   "outputs": [],
   "source": [
    "#Store Predictions result\n",
    "pred_result = (np.argmax(predictions[:20], axis=1))"
   ]
  },
  {
   "cell_type": "code",
   "execution_count": 78,
   "metadata": {},
   "outputs": [
    {
     "name": "stdout",
     "output_type": "stream",
     "text": [
      "['Positive' 'Neutral' 'Neutral' 'Extremely Negative' 'Positive'\n",
      " 'Extremely Positive' 'Neutral' 'Extremely Positive' 'Extremely Positive'\n",
      " 'Neutral' 'Extremely Negative' 'Neutral' 'Positive' 'Extremely Positive'\n",
      " 'Neutral' 'Extremely Positive' 'Positive' 'Neutral' 'Neutral' 'Positive']\n"
     ]
    }
   ],
   "source": [
    "#Show result of predictions\n",
    "print(lab_names[pred_result])"
   ]
  },
  {
   "cell_type": "markdown",
   "metadata": {},
   "source": [
    "# 模型应用-推文"
   ]
  },
  {
   "cell_type": "code",
   "execution_count": 165,
   "metadata": {},
   "outputs": [
    {
     "data": {
      "text/html": [
       "<div>\n",
       "<style scoped>\n",
       "    .dataframe tbody tr th:only-of-type {\n",
       "        vertical-align: middle;\n",
       "    }\n",
       "\n",
       "    .dataframe tbody tr th {\n",
       "        vertical-align: top;\n",
       "    }\n",
       "\n",
       "    .dataframe thead th {\n",
       "        text-align: right;\n",
       "    }\n",
       "</style>\n",
       "<table border=\"1\" class=\"dataframe\">\n",
       "  <thead>\n",
       "    <tr style=\"text-align: right;\">\n",
       "      <th></th>\n",
       "      <th>u_nickname</th>\n",
       "      <th>u_url</th>\n",
       "      <th>m_content</th>\n",
       "      <th>m_content_url</th>\n",
       "      <th>m_content_id</th>\n",
       "      <th>m_images</th>\n",
       "      <th>m_videos</th>\n",
       "      <th>r_comment_num</th>\n",
       "      <th>g_publi</th>\n",
       "      <th>r_like_num</th>\n",
       "      <th>r_trans_num</th>\n",
       "      <th>verified</th>\n",
       "      <th>u_id</th>\n",
       "      <th>u_desc</th>\n",
       "      <th>u_fans</th>\n",
       "      <th>u_follow</th>\n",
       "      <th>u_login_time</th>\n",
       "      <th>u_area</th>\n",
       "      <th>topic_result</th>\n",
       "    </tr>\n",
       "  </thead>\n",
       "  <tbody>\n",
       "    <tr>\n",
       "      <th>0</th>\n",
       "      <td>Pastor Mark Burns</td>\n",
       "      <td>https://twitter.com/pastormarkburns</td>\n",
       "      <td>Is it possible that President @realDonaldTrump...</td>\n",
       "      <td>NaN</td>\n",
       "      <td>1312427187220480000</td>\n",
       "      <td>NaN</td>\n",
       "      <td>NaN</td>\n",
       "      <td>43038</td>\n",
       "      <td>2020-10</td>\n",
       "      <td>41927</td>\n",
       "      <td>8776</td>\n",
       "      <td>1</td>\n",
       "      <td>39334221</td>\n",
       "      <td>Husband, Father, South Carolina native,\\nEntre...</td>\n",
       "      <td>148266</td>\n",
       "      <td>567</td>\n",
       "      <td>2009-05-12 04:31:45</td>\n",
       "      <td>South Carolina</td>\n",
       "      <td>3</td>\n",
       "    </tr>\n",
       "    <tr>\n",
       "      <th>1</th>\n",
       "      <td>Chuck Woolery</td>\n",
       "      <td>https://twitter.com/chuckwoolery</td>\n",
       "      <td>The most outrageous lies are the ones about Co...</td>\n",
       "      <td>NaN</td>\n",
       "      <td>1282499347117215745</td>\n",
       "      <td>NaN</td>\n",
       "      <td>NaN</td>\n",
       "      <td>41952</td>\n",
       "      <td>2020-07</td>\n",
       "      <td>66955</td>\n",
       "      <td>16983</td>\n",
       "      <td>1</td>\n",
       "      <td>462104542</td>\n",
       "      <td>Hollywood Conservative, Love Connection Host, ...</td>\n",
       "      <td>563931</td>\n",
       "      <td>2367</td>\n",
       "      <td>2012-01-12 23:30:41</td>\n",
       "      <td>Texas</td>\n",
       "      <td>1</td>\n",
       "    </tr>\n",
       "    <tr>\n",
       "      <th>2</th>\n",
       "      <td>Dr. Saskia Popescu</td>\n",
       "      <td>https://twitter.com/SaskiaPopescu</td>\n",
       "      <td>Stop. Calling. It. The. “China Virus\". \\n\\nJus...</td>\n",
       "      <td>NaN</td>\n",
       "      <td>1285684554230050817</td>\n",
       "      <td>NaN</td>\n",
       "      <td>NaN</td>\n",
       "      <td>34513</td>\n",
       "      <td>2020-07</td>\n",
       "      <td>10537</td>\n",
       "      <td>1470</td>\n",
       "      <td>1</td>\n",
       "      <td>26117944</td>\n",
       "      <td>ID Epi &amp; infection prvntn | Asst Prof @ScharSc...</td>\n",
       "      <td>50247</td>\n",
       "      <td>886</td>\n",
       "      <td>2009-03-24 07:17:50</td>\n",
       "      <td>Phoenix &amp; DC</td>\n",
       "      <td>5</td>\n",
       "    </tr>\n",
       "    <tr>\n",
       "      <th>3</th>\n",
       "      <td>ChuckGrassley</td>\n",
       "      <td>https://twitter.com/ChuckGrassley</td>\n",
       "      <td>I don’t understand why China gets upset bc we ...</td>\n",
       "      <td>NaN</td>\n",
       "      <td>1240245244169420800</td>\n",
       "      <td>NaN</td>\n",
       "      <td>NaN</td>\n",
       "      <td>34010</td>\n",
       "      <td>2020-03</td>\n",
       "      <td>24137</td>\n",
       "      <td>6355</td>\n",
       "      <td>1</td>\n",
       "      <td>10615232</td>\n",
       "      <td>U.S. Senator. Family farmer. Lifetime resident...</td>\n",
       "      <td>628280</td>\n",
       "      <td>12984</td>\n",
       "      <td>2007-11-26 23:17:02</td>\n",
       "      <td>Iowa</td>\n",
       "      <td>5</td>\n",
       "    </tr>\n",
       "    <tr>\n",
       "      <th>4</th>\n",
       "      <td>Barack Obama</td>\n",
       "      <td>https://twitter.com/BarackObama</td>\n",
       "      <td>We've seen all too terribly the consequences o...</td>\n",
       "      <td>NaN</td>\n",
       "      <td>1245007713387544576</td>\n",
       "      <td>NaN</td>\n",
       "      <td>NaN</td>\n",
       "      <td>34001</td>\n",
       "      <td>2020-03</td>\n",
       "      <td>331589</td>\n",
       "      <td>87307</td>\n",
       "      <td>1</td>\n",
       "      <td>813286</td>\n",
       "      <td>Dad, husband, President, citizen.</td>\n",
       "      <td>129352049</td>\n",
       "      <td>594833</td>\n",
       "      <td>2007-03-06 06:08:25</td>\n",
       "      <td>Washington, DC</td>\n",
       "      <td>4</td>\n",
       "    </tr>\n",
       "  </tbody>\n",
       "</table>\n",
       "</div>"
      ],
      "text/plain": [
       "           u_nickname                                u_url  \\\n",
       "0   Pastor Mark Burns  https://twitter.com/pastormarkburns   \n",
       "1       Chuck Woolery     https://twitter.com/chuckwoolery   \n",
       "2  Dr. Saskia Popescu    https://twitter.com/SaskiaPopescu   \n",
       "3       ChuckGrassley    https://twitter.com/ChuckGrassley   \n",
       "4        Barack Obama      https://twitter.com/BarackObama   \n",
       "\n",
       "                                           m_content  m_content_url  \\\n",
       "0  Is it possible that President @realDonaldTrump...            NaN   \n",
       "1  The most outrageous lies are the ones about Co...            NaN   \n",
       "2  Stop. Calling. It. The. “China Virus\". \\n\\nJus...            NaN   \n",
       "3  I don’t understand why China gets upset bc we ...            NaN   \n",
       "4  We've seen all too terribly the consequences o...            NaN   \n",
       "\n",
       "          m_content_id m_images m_videos  r_comment_num  g_publi  r_like_num  \\\n",
       "0  1312427187220480000      NaN      NaN          43038  2020-10       41927   \n",
       "1  1282499347117215745      NaN      NaN          41952  2020-07       66955   \n",
       "2  1285684554230050817      NaN      NaN          34513  2020-07       10537   \n",
       "3  1240245244169420800      NaN      NaN          34010  2020-03       24137   \n",
       "4  1245007713387544576      NaN      NaN          34001  2020-03      331589   \n",
       "\n",
       "   r_trans_num  verified       u_id  \\\n",
       "0         8776         1   39334221   \n",
       "1        16983         1  462104542   \n",
       "2         1470         1   26117944   \n",
       "3         6355         1   10615232   \n",
       "4        87307         1     813286   \n",
       "\n",
       "                                              u_desc     u_fans  u_follow  \\\n",
       "0  Husband, Father, South Carolina native,\\nEntre...     148266       567   \n",
       "1  Hollywood Conservative, Love Connection Host, ...     563931      2367   \n",
       "2  ID Epi & infection prvntn | Asst Prof @ScharSc...      50247       886   \n",
       "3  U.S. Senator. Family farmer. Lifetime resident...     628280     12984   \n",
       "4                  Dad, husband, President, citizen.  129352049    594833   \n",
       "\n",
       "         u_login_time          u_area  topic_result  \n",
       "0 2009-05-12 04:31:45  South Carolina             3  \n",
       "1 2012-01-12 23:30:41           Texas             1  \n",
       "2 2009-03-24 07:17:50    Phoenix & DC             5  \n",
       "3 2007-11-26 23:17:02            Iowa             5  \n",
       "4 2007-03-06 06:08:25  Washington, DC             4  "
      ]
     },
     "execution_count": 165,
     "metadata": {},
     "output_type": "execute_result"
    }
   ],
   "source": [
    "tweet_clean=pd.read_excel('/Users/kejinglin/Desktop/personal/mydata/tweet_clean_sentiment.xlsx')\n",
    "tweet_clean.head()"
   ]
  },
  {
   "cell_type": "code",
   "execution_count": 167,
   "metadata": {},
   "outputs": [
    {
     "data": {
      "text/plain": [
       "0       Is it possible that President @realDonaldTrump...\n",
       "1       The most outrageous lies are the ones about Co...\n",
       "2       Stop. Calling. It. The. “China Virus\". \\n\\nJus...\n",
       "3       I don’t understand why China gets upset bc we ...\n",
       "4       We've seen all too terribly the consequences o...\n",
       "                              ...                        \n",
       "3353    Pres Trump travels to the heartland today to e...\n",
       "3354    Temple University genomic study: \\n\\n'All the ...\n",
       "3355    There's \"no evidence\" that people gain immunit...\n",
       "3356    These guys really think they can racism their ...\n",
       "3357    Trump ordered 30-day travel ban from Europe to...\n",
       "Name: m_content, Length: 3358, dtype: object"
      ]
     },
     "execution_count": 167,
     "metadata": {},
     "output_type": "execute_result"
    }
   ],
   "source": [
    "content=tweet_clean['m_content']\n",
    "content"
   ]
  },
  {
   "cell_type": "code",
   "execution_count": 168,
   "metadata": {},
   "outputs": [],
   "source": [
    "#Words Tokenization\n",
    "from nltk.tokenize import word_tokenize\n",
    "\n",
    "all_words = []\n",
    "for sent in content:\n",
    "    tokenize_word = word_tokenize(sent)\n",
    "    for word in tokenize_word:\n",
    "        all_words.append(word)"
   ]
  },
  {
   "cell_type": "code",
   "execution_count": 169,
   "metadata": {},
   "outputs": [
    {
     "name": "stdout",
     "output_type": "stream",
     "text": [
      "15597\n"
     ]
    }
   ],
   "source": [
    "#Extract each word while ignoring duplicates\n",
    "unique_words = set(all_words)\n",
    "print(len(unique_words))"
   ]
  },
  {
   "cell_type": "code",
   "execution_count": 170,
   "metadata": {},
   "outputs": [],
   "source": [
    "vocab_length = 101948\n",
    "embedded_sentences = [one_hot(sent, vocab_length) for sent in content]\n",
    "#print(embedded_sentences )"
   ]
  },
  {
   "cell_type": "code",
   "execution_count": 171,
   "metadata": {},
   "outputs": [],
   "source": [
    "#count number of words\n",
    "word_count = lambda sentence: len(word_tokenize(sentence))\n",
    "longest_sentence = max(corpus, key=word_count)\n",
    "length_long_sentence = len(word_tokenize(longest_sentence))"
   ]
  },
  {
   "cell_type": "code",
   "execution_count": 172,
   "metadata": {},
   "outputs": [
    {
     "name": "stdout",
     "output_type": "stream",
     "text": [
      "[[ 58561  80259  51950 ...      0      0      0]\n",
      " [ 87495   9346  16544 ...      0      0      0]\n",
      " [ 15942  78684  80259 ...      0      0      0]\n",
      " ...\n",
      " [100501  12155  40136 ...      0      0      0]\n",
      " [  1078  45656   5074 ...      0      0      0]\n",
      " [  7904  69773  41483 ...      0      0      0]]\n"
     ]
    }
   ],
   "source": [
    "#Fill the end of each sentence with '0' so that they all have same lenght\n",
    "padded_sentences = pad_sequences(embedded_sentences, length_long_sentence, padding='post')\n",
    "print(padded_sentences)"
   ]
  },
  {
   "cell_type": "code",
   "execution_count": 173,
   "metadata": {},
   "outputs": [
    {
     "data": {
      "text/plain": [
       "3358"
      ]
     },
     "execution_count": 173,
     "metadata": {},
     "output_type": "execute_result"
    }
   ],
   "source": [
    "len(padded_sentences)"
   ]
  },
  {
   "cell_type": "code",
   "execution_count": 174,
   "metadata": {},
   "outputs": [],
   "source": [
    "result=model.predict(padded_sentences)"
   ]
  },
  {
   "cell_type": "code",
   "execution_count": 175,
   "metadata": {},
   "outputs": [
    {
     "data": {
      "text/plain": [
       "array([[3.0864346e-06, 1.1544614e-05, 1.8970789e-01, 1.9284154e-01,\n",
       "        6.1743599e-01],\n",
       "       [9.9559480e-01, 3.6925972e-08, 3.6665932e-03, 8.3678839e-05,\n",
       "        6.5492501e-04],\n",
       "       [8.8577199e-01, 2.8782839e-07, 1.1193123e-01, 2.8524021e-06,\n",
       "        2.2935430e-03],\n",
       "       ...,\n",
       "       [4.0887593e-07, 1.3378168e-03, 4.1481102e-01, 3.8544335e-06,\n",
       "        5.8384699e-01],\n",
       "       [1.0315003e-01, 6.1000321e-07, 8.9627492e-01, 1.0191595e-08,\n",
       "        5.7437900e-04],\n",
       "       [9.9981052e-01, 8.8927928e-11, 1.8783024e-04, 2.6626043e-11,\n",
       "        1.6455405e-06]], dtype=float32)"
      ]
     },
     "execution_count": 175,
     "metadata": {},
     "output_type": "execute_result"
    }
   ],
   "source": [
    "result"
   ]
  },
  {
   "cell_type": "code",
   "execution_count": 176,
   "metadata": {},
   "outputs": [
    {
     "data": {
      "text/plain": [
       "array([4, 0, 0, ..., 4, 2, 0])"
      ]
     },
     "execution_count": 176,
     "metadata": {},
     "output_type": "execute_result"
    }
   ],
   "source": [
    "pred_result = (np.argmax(result, axis=1))\n",
    "pred_result"
   ]
  },
  {
   "cell_type": "code",
   "execution_count": 177,
   "metadata": {},
   "outputs": [
    {
     "name": "stdout",
     "output_type": "stream",
     "text": [
      "['Neutral' 'Extremely Negative' 'Extremely Negative' ... 'Neutral'\n",
      " 'Extremely Positive' 'Extremely Negative']\n"
     ]
    }
   ],
   "source": [
    "print(lab_names[pred_result])"
   ]
  },
  {
   "cell_type": "code",
   "execution_count": null,
   "metadata": {},
   "outputs": [],
   "source": [
    "#3:negative\n",
    "#0:emtremly naglitive\n",
    "#2:extremly positive\n",
    "#4:netural\n",
    "#1:positive"
   ]
  },
  {
   "cell_type": "code",
   "execution_count": 178,
   "metadata": {},
   "outputs": [],
   "source": [
    "write_result=pd.DataFrame(pred_result)"
   ]
  },
  {
   "cell_type": "code",
   "execution_count": 179,
   "metadata": {},
   "outputs": [],
   "source": [
    "write_result.to_excel('/Users/kejinglin/Desktop/personal/mydata/sentiment_result_lstm.xls',)"
   ]
  },
  {
   "cell_type": "code",
   "execution_count": 184,
   "metadata": {},
   "outputs": [
    {
     "data": {
      "text/html": [
       "<div>\n",
       "<style scoped>\n",
       "    .dataframe tbody tr th:only-of-type {\n",
       "        vertical-align: middle;\n",
       "    }\n",
       "\n",
       "    .dataframe tbody tr th {\n",
       "        vertical-align: top;\n",
       "    }\n",
       "\n",
       "    .dataframe thead th {\n",
       "        text-align: right;\n",
       "    }\n",
       "</style>\n",
       "<table border=\"1\" class=\"dataframe\">\n",
       "  <thead>\n",
       "    <tr style=\"text-align: right;\">\n",
       "      <th></th>\n",
       "      <th>Unnamed: 0</th>\n",
       "      <th>sentiment</th>\n",
       "    </tr>\n",
       "  </thead>\n",
       "  <tbody>\n",
       "    <tr>\n",
       "      <th>0</th>\n",
       "      <td>0</td>\n",
       "      <td>4</td>\n",
       "    </tr>\n",
       "    <tr>\n",
       "      <th>1</th>\n",
       "      <td>1</td>\n",
       "      <td>0</td>\n",
       "    </tr>\n",
       "    <tr>\n",
       "      <th>2</th>\n",
       "      <td>2</td>\n",
       "      <td>0</td>\n",
       "    </tr>\n",
       "    <tr>\n",
       "      <th>3</th>\n",
       "      <td>3</td>\n",
       "      <td>0</td>\n",
       "    </tr>\n",
       "    <tr>\n",
       "      <th>4</th>\n",
       "      <td>4</td>\n",
       "      <td>2</td>\n",
       "    </tr>\n",
       "  </tbody>\n",
       "</table>\n",
       "</div>"
      ],
      "text/plain": [
       "   Unnamed: 0  sentiment\n",
       "0           0          4\n",
       "1           1          0\n",
       "2           2          0\n",
       "3           3          0\n",
       "4           4          2"
      ]
     },
     "execution_count": 184,
     "metadata": {},
     "output_type": "execute_result"
    }
   ],
   "source": [
    "sentiment=pd.read_excel('/Users/kejinglin/Desktop/personal/mydata/sentiment_result_lstm.xls')\n",
    "sentiment.head()"
   ]
  },
  {
   "cell_type": "code",
   "execution_count": 185,
   "metadata": {},
   "outputs": [
    {
     "data": {
      "text/plain": [
       "2    1104\n",
       "0     751\n",
       "4     734\n",
       "3     418\n",
       "1     351\n",
       "Name: sentiment, dtype: int64"
      ]
     },
     "execution_count": 185,
     "metadata": {},
     "output_type": "execute_result"
    }
   ],
   "source": [
    "sentiment.loc[:,'sentiment'].value_counts()"
   ]
  },
  {
   "cell_type": "markdown",
   "metadata": {},
   "source": [
    "# 模型应用-评论"
   ]
  },
  {
   "cell_type": "code",
   "execution_count": 103,
   "metadata": {},
   "outputs": [
    {
     "data": {
      "text/html": [
       "<div>\n",
       "<style scoped>\n",
       "    .dataframe tbody tr th:only-of-type {\n",
       "        vertical-align: middle;\n",
       "    }\n",
       "\n",
       "    .dataframe tbody tr th {\n",
       "        vertical-align: top;\n",
       "    }\n",
       "\n",
       "    .dataframe thead th {\n",
       "        text-align: right;\n",
       "    }\n",
       "</style>\n",
       "<table border=\"1\" class=\"dataframe\">\n",
       "  <thead>\n",
       "    <tr style=\"text-align: right;\">\n",
       "      <th></th>\n",
       "      <th>Unnamed: 0</th>\n",
       "      <th>m_origin_id</th>\n",
       "      <th>u_id</th>\n",
       "      <th>r_id</th>\n",
       "      <th>r_content</th>\n",
       "      <th>g_publish_time</th>\n",
       "      <th>u_nickname</th>\n",
       "      <th>u_url</th>\n",
       "      <th>u_introduction</th>\n",
       "      <th>r_follow_num</th>\n",
       "      <th>r_fans_num</th>\n",
       "      <th>verified</th>\n",
       "      <th>u_login_time</th>\n",
       "      <th>u_area</th>\n",
       "      <th>name_binary</th>\n",
       "      <th>description_binary</th>\n",
       "      <th>location_binary</th>\n",
       "      <th>url_binary</th>\n",
       "      <th>result</th>\n",
       "    </tr>\n",
       "  </thead>\n",
       "  <tbody>\n",
       "    <tr>\n",
       "      <th>0</th>\n",
       "      <td>0</td>\n",
       "      <td>1043334390850510976</td>\n",
       "      <td>24928470</td>\n",
       "      <td>1044083498854896000</td>\n",
       "      <td>@1DLowther @dcpoll @CNN Not tht I know of,</td>\n",
       "      <td>2018-09-24 12:37:58</td>\n",
       "      <td>yvonne</td>\n",
       "      <td>https://twitter.com/animalfriend1</td>\n",
       "      <td>Veterinary Professional,animal supporter,Scien...</td>\n",
       "      <td>2693</td>\n",
       "      <td>2089</td>\n",
       "      <td>0</td>\n",
       "      <td>2009-03-18 02:37:59</td>\n",
       "      <td>Fl</td>\n",
       "      <td>False</td>\n",
       "      <td>False</td>\n",
       "      <td>True</td>\n",
       "      <td>True</td>\n",
       "      <td>True</td>\n",
       "    </tr>\n",
       "    <tr>\n",
       "      <th>1</th>\n",
       "      <td>1</td>\n",
       "      <td>1043334390850510976</td>\n",
       "      <td>140166872</td>\n",
       "      <td>1043367165749916032</td>\n",
       "      <td>@BabyD_Rae @dcpoll @power2she @CNN They don't ...</td>\n",
       "      <td>2018-09-22 13:11:31</td>\n",
       "      <td>immigration detention = $770/night squalor</td>\n",
       "      <td>https://twitter.com/pookietooth</td>\n",
       "      <td>gov't should regulate co's &amp; protect us, not p...</td>\n",
       "      <td>8305</td>\n",
       "      <td>7332</td>\n",
       "      <td>0</td>\n",
       "      <td>2010-05-05 03:41:28</td>\n",
       "      <td>United States</td>\n",
       "      <td>False</td>\n",
       "      <td>False</td>\n",
       "      <td>True</td>\n",
       "      <td>True</td>\n",
       "      <td>True</td>\n",
       "    </tr>\n",
       "    <tr>\n",
       "      <th>2</th>\n",
       "      <td>2</td>\n",
       "      <td>1043334390850510976</td>\n",
       "      <td>308698101</td>\n",
       "      <td>1043353604499955968</td>\n",
       "      <td>@DwayneRude1 @dcpoll @CNN LMFAOOOOOOOOOOOO</td>\n",
       "      <td>2018-09-22 12:17:38</td>\n",
       "      <td>❄VerySpecialSnowFlake❄</td>\n",
       "      <td>https://twitter.com/miamidecor</td>\n",
       "      <td>Snowflake in Miami</td>\n",
       "      <td>7900</td>\n",
       "      <td>7028</td>\n",
       "      <td>0</td>\n",
       "      <td>2011-06-01 05:06:40</td>\n",
       "      <td>Stalking Zimmerman</td>\n",
       "      <td>False</td>\n",
       "      <td>False</td>\n",
       "      <td>True</td>\n",
       "      <td>True</td>\n",
       "      <td>True</td>\n",
       "    </tr>\n",
       "    <tr>\n",
       "      <th>3</th>\n",
       "      <td>3</td>\n",
       "      <td>1043334390850510976</td>\n",
       "      <td>831816535</td>\n",
       "      <td>1043340238893068032</td>\n",
       "      <td>@Enrico056 @dcpoll @CNN @GOP @ChuckGrassley Th...</td>\n",
       "      <td>2018-09-22 11:24:31</td>\n",
       "      <td>Patty Harbison</td>\n",
       "      <td>https://twitter.com/PattyHarbison</td>\n",
       "      <td>#TodaysHaiku Retired lawyer, HLS alum. Wife to...</td>\n",
       "      <td>964</td>\n",
       "      <td>1291</td>\n",
       "      <td>0</td>\n",
       "      <td>2012-09-19 04:20:37</td>\n",
       "      <td>Middle TN</td>\n",
       "      <td>False</td>\n",
       "      <td>False</td>\n",
       "      <td>True</td>\n",
       "      <td>True</td>\n",
       "      <td>True</td>\n",
       "    </tr>\n",
       "    <tr>\n",
       "      <th>4</th>\n",
       "      <td>4</td>\n",
       "      <td>1043334390850510976</td>\n",
       "      <td>833728731504013312</td>\n",
       "      <td>1043344963507868032</td>\n",
       "      <td>@KitchyItchy @dcpoll @CNN His weird little fla...</td>\n",
       "      <td>2018-09-22 11:43:18</td>\n",
       "      <td>A Middle Aged Lady in a Flyover State</td>\n",
       "      <td>https://twitter.com/AFlyover</td>\n",
       "      <td>I've installed a Xanax Salt Lick in every room...</td>\n",
       "      <td>4270</td>\n",
       "      <td>4205</td>\n",
       "      <td>0</td>\n",
       "      <td>2017-02-21 01:23:14</td>\n",
       "      <td>Middle of Nowhere</td>\n",
       "      <td>False</td>\n",
       "      <td>True</td>\n",
       "      <td>True</td>\n",
       "      <td>True</td>\n",
       "      <td>True</td>\n",
       "    </tr>\n",
       "  </tbody>\n",
       "</table>\n",
       "</div>"
      ],
      "text/plain": [
       "   Unnamed: 0          m_origin_id                u_id                 r_id  \\\n",
       "0           0  1043334390850510976            24928470  1044083498854896000   \n",
       "1           1  1043334390850510976           140166872  1043367165749916032   \n",
       "2           2  1043334390850510976           308698101  1043353604499955968   \n",
       "3           3  1043334390850510976           831816535  1043340238893068032   \n",
       "4           4  1043334390850510976  833728731504013312  1043344963507868032   \n",
       "\n",
       "                                           r_content       g_publish_time  \\\n",
       "0         @1DLowther @dcpoll @CNN Not tht I know of,  2018-09-24 12:37:58   \n",
       "1  @BabyD_Rae @dcpoll @power2she @CNN They don't ...  2018-09-22 13:11:31   \n",
       "2         @DwayneRude1 @dcpoll @CNN LMFAOOOOOOOOOOOO  2018-09-22 12:17:38   \n",
       "3  @Enrico056 @dcpoll @CNN @GOP @ChuckGrassley Th...  2018-09-22 11:24:31   \n",
       "4  @KitchyItchy @dcpoll @CNN His weird little fla...  2018-09-22 11:43:18   \n",
       "\n",
       "                                   u_nickname  \\\n",
       "0                                      yvonne   \n",
       "1  immigration detention = $770/night squalor   \n",
       "2                      ❄VerySpecialSnowFlake❄   \n",
       "3                              Patty Harbison   \n",
       "4       A Middle Aged Lady in a Flyover State   \n",
       "\n",
       "                               u_url  \\\n",
       "0  https://twitter.com/animalfriend1   \n",
       "1    https://twitter.com/pookietooth   \n",
       "2     https://twitter.com/miamidecor   \n",
       "3  https://twitter.com/PattyHarbison   \n",
       "4       https://twitter.com/AFlyover   \n",
       "\n",
       "                                      u_introduction  r_follow_num  \\\n",
       "0  Veterinary Professional,animal supporter,Scien...          2693   \n",
       "1  gov't should regulate co's & protect us, not p...          8305   \n",
       "2                                 Snowflake in Miami          7900   \n",
       "3  #TodaysHaiku Retired lawyer, HLS alum. Wife to...           964   \n",
       "4  I've installed a Xanax Salt Lick in every room...          4270   \n",
       "\n",
       "   r_fans_num verified         u_login_time              u_area  name_binary  \\\n",
       "0        2089        0  2009-03-18 02:37:59                  Fl        False   \n",
       "1        7332        0  2010-05-05 03:41:28       United States        False   \n",
       "2        7028        0  2011-06-01 05:06:40  Stalking Zimmerman        False   \n",
       "3        1291        0  2012-09-19 04:20:37           Middle TN        False   \n",
       "4        4205        0  2017-02-21 01:23:14   Middle of Nowhere        False   \n",
       "\n",
       "   description_binary  location_binary  url_binary  result  \n",
       "0               False             True        True    True  \n",
       "1               False             True        True    True  \n",
       "2               False             True        True    True  \n",
       "3               False             True        True    True  \n",
       "4                True             True        True    True  "
      ]
     },
     "execution_count": 103,
     "metadata": {},
     "output_type": "execute_result"
    }
   ],
   "source": [
    "import pandas as pd\n",
    "import numpy as np\n",
    "import re\n",
    "\n",
    "dtype={\n",
    "      'verified':str\n",
    "       }   \n",
    "\n",
    "comment = pd.read_excel('/Users/lin/Desktop/personal/mydata/clean_comment.xlsx',dtype=dtype)\n",
    "comment.head(5)"
   ]
  },
  {
   "cell_type": "code",
   "execution_count": 104,
   "metadata": {},
   "outputs": [
    {
     "data": {
      "text/html": [
       "<div>\n",
       "<style scoped>\n",
       "    .dataframe tbody tr th:only-of-type {\n",
       "        vertical-align: middle;\n",
       "    }\n",
       "\n",
       "    .dataframe tbody tr th {\n",
       "        vertical-align: top;\n",
       "    }\n",
       "\n",
       "    .dataframe thead th {\n",
       "        text-align: right;\n",
       "    }\n",
       "</style>\n",
       "<table border=\"1\" class=\"dataframe\">\n",
       "  <thead>\n",
       "    <tr style=\"text-align: right;\">\n",
       "      <th></th>\n",
       "      <th>Unnamed: 0</th>\n",
       "      <th>m_origin_id</th>\n",
       "      <th>u_id</th>\n",
       "      <th>r_id</th>\n",
       "      <th>r_follow_num</th>\n",
       "      <th>r_fans_num</th>\n",
       "    </tr>\n",
       "  </thead>\n",
       "  <tbody>\n",
       "    <tr>\n",
       "      <th>count</th>\n",
       "      <td>516443.000000</td>\n",
       "      <td>5.164430e+05</td>\n",
       "      <td>5.164430e+05</td>\n",
       "      <td>5.164430e+05</td>\n",
       "      <td>5.164430e+05</td>\n",
       "      <td>5.164430e+05</td>\n",
       "    </tr>\n",
       "    <tr>\n",
       "      <th>mean</th>\n",
       "      <td>270909.943119</td>\n",
       "      <td>1.268973e+18</td>\n",
       "      <td>4.572684e+17</td>\n",
       "      <td>1.269424e+18</td>\n",
       "      <td>1.628638e+03</td>\n",
       "      <td>3.562466e+04</td>\n",
       "    </tr>\n",
       "    <tr>\n",
       "      <th>std</th>\n",
       "      <td>156291.479106</td>\n",
       "      <td>4.270278e+16</td>\n",
       "      <td>5.320254e+17</td>\n",
       "      <td>4.066292e+16</td>\n",
       "      <td>7.056354e+03</td>\n",
       "      <td>8.020162e+05</td>\n",
       "    </tr>\n",
       "    <tr>\n",
       "      <th>min</th>\n",
       "      <td>0.000000</td>\n",
       "      <td>2.681472e+17</td>\n",
       "      <td>1.200000e+01</td>\n",
       "      <td>1.938526e+17</td>\n",
       "      <td>0.000000e+00</td>\n",
       "      <td>0.000000e+00</td>\n",
       "    </tr>\n",
       "    <tr>\n",
       "      <th>25%</th>\n",
       "      <td>135641.000000</td>\n",
       "      <td>1.242449e+18</td>\n",
       "      <td>3.040813e+08</td>\n",
       "      <td>1.242629e+18</td>\n",
       "      <td>1.990000e+02</td>\n",
       "      <td>7.000000e+01</td>\n",
       "    </tr>\n",
       "    <tr>\n",
       "      <th>50%</th>\n",
       "      <td>270757.000000</td>\n",
       "      <td>1.253447e+18</td>\n",
       "      <td>2.960705e+09</td>\n",
       "      <td>1.253768e+18</td>\n",
       "      <td>5.280000e+02</td>\n",
       "      <td>2.570000e+02</td>\n",
       "    </tr>\n",
       "    <tr>\n",
       "      <th>75%</th>\n",
       "      <td>405946.500000</td>\n",
       "      <td>1.293768e+18</td>\n",
       "      <td>1.023689e+18</td>\n",
       "      <td>1.294310e+18</td>\n",
       "      <td>1.415000e+03</td>\n",
       "      <td>1.071000e+03</td>\n",
       "    </tr>\n",
       "    <tr>\n",
       "      <th>max</th>\n",
       "      <td>542621.000000</td>\n",
       "      <td>1.360644e+18</td>\n",
       "      <td>1.360270e+18</td>\n",
       "      <td>1.362888e+18</td>\n",
       "      <td>1.604839e+06</td>\n",
       "      <td>1.293520e+08</td>\n",
       "    </tr>\n",
       "  </tbody>\n",
       "</table>\n",
       "</div>"
      ],
      "text/plain": [
       "          Unnamed: 0   m_origin_id          u_id          r_id  r_follow_num  \\\n",
       "count  516443.000000  5.164430e+05  5.164430e+05  5.164430e+05  5.164430e+05   \n",
       "mean   270909.943119  1.268973e+18  4.572684e+17  1.269424e+18  1.628638e+03   \n",
       "std    156291.479106  4.270278e+16  5.320254e+17  4.066292e+16  7.056354e+03   \n",
       "min         0.000000  2.681472e+17  1.200000e+01  1.938526e+17  0.000000e+00   \n",
       "25%    135641.000000  1.242449e+18  3.040813e+08  1.242629e+18  1.990000e+02   \n",
       "50%    270757.000000  1.253447e+18  2.960705e+09  1.253768e+18  5.280000e+02   \n",
       "75%    405946.500000  1.293768e+18  1.023689e+18  1.294310e+18  1.415000e+03   \n",
       "max    542621.000000  1.360644e+18  1.360270e+18  1.362888e+18  1.604839e+06   \n",
       "\n",
       "         r_fans_num  \n",
       "count  5.164430e+05  \n",
       "mean   3.562466e+04  \n",
       "std    8.020162e+05  \n",
       "min    0.000000e+00  \n",
       "25%    7.000000e+01  \n",
       "50%    2.570000e+02  \n",
       "75%    1.071000e+03  \n",
       "max    1.293520e+08  "
      ]
     },
     "execution_count": 104,
     "metadata": {},
     "output_type": "execute_result"
    }
   ],
   "source": [
    "comment.describe()"
   ]
  },
  {
   "cell_type": "code",
   "execution_count": 114,
   "metadata": {},
   "outputs": [
    {
     "data": {
      "text/plain": [
       "0         Veterinary Professional,animal supporter,Scien...\n",
       "1         gov't should regulate co's & protect us, not p...\n",
       "2                                        Snowflake in Miami\n",
       "3         #TodaysHaiku Retired lawyer, HLS alum. Wife to...\n",
       "4         I've installed a Xanax Salt Lick in every room...\n",
       "                                ...                        \n",
       "516438                        kattar congressi... ❤RG & SG❤\n",
       "516439                                                  NaN\n",
       "516440    Rajya Sabha MP, Fmr. Union Cabinet Minister, H...\n",
       "516441                                                  NaN\n",
       "516442    history enthusiast by passion;\\nthree decades ...\n",
       "Name: u_introduction, Length: 516443, dtype: object"
      ]
     },
     "execution_count": 114,
     "metadata": {},
     "output_type": "execute_result"
    }
   ],
   "source": [
    "comm=comment['u_introduction']\n",
    "comm"
   ]
  },
  {
   "cell_type": "code",
   "execution_count": 110,
   "metadata": {},
   "outputs": [],
   "source": [
    "#Words Tokenization\n",
    "from nltk.tokenize import word_tokenize\n",
    "\n",
    "all_words = []\n",
    "for sent in comm:\n",
    "    tokenize_word = word_tokenize(str(sent))\n",
    "    for word in tokenize_word:\n",
    "        all_words.append(word)"
   ]
  },
  {
   "cell_type": "code",
   "execution_count": 111,
   "metadata": {},
   "outputs": [
    {
     "name": "stdout",
     "output_type": "stream",
     "text": [
      "296327\n"
     ]
    }
   ],
   "source": [
    "#Extract each word while ignoring duplicates\n",
    "unique_words = set(all_words)\n",
    "print(len(unique_words))"
   ]
  },
  {
   "cell_type": "code",
   "execution_count": 116,
   "metadata": {},
   "outputs": [],
   "source": [
    "vocab_length = 101948\n",
    "embedded_sentences = [one_hot(str(sent), vocab_length) for sent in comm]\n",
    "#print(embedded_sentences )"
   ]
  },
  {
   "cell_type": "code",
   "execution_count": 117,
   "metadata": {},
   "outputs": [],
   "source": [
    "#count number of words\n",
    "word_count = lambda sentence: len(word_tokenize(sentence))\n",
    "longest_sentence = max(corpus, key=word_count)\n",
    "length_long_sentence = len(word_tokenize(longest_sentence))"
   ]
  },
  {
   "cell_type": "code",
   "execution_count": 118,
   "metadata": {},
   "outputs": [
    {
     "name": "stdout",
     "output_type": "stream",
     "text": [
      "[[60283 90883  4092 ...     0     0     0]\n",
      " [13954 99401 47775 ...     0     0     0]\n",
      " [98359 40925 22761 ...     0     0     0]\n",
      " ...\n",
      " [80306 36954 11586 ...     0     0     0]\n",
      " [65876     0     0 ...     0     0     0]\n",
      " [92162  4559 59355 ...     0     0     0]]\n"
     ]
    }
   ],
   "source": [
    "#Fill the end of each sentence with '0' so that they all have same lenght\n",
    "padded_sentences = pad_sequences(embedded_sentences, length_long_sentence, padding='post')\n",
    "print(padded_sentences)"
   ]
  },
  {
   "cell_type": "code",
   "execution_count": 119,
   "metadata": {},
   "outputs": [
    {
     "data": {
      "text/plain": [
       "516443"
      ]
     },
     "execution_count": 119,
     "metadata": {},
     "output_type": "execute_result"
    }
   ],
   "source": [
    "len(padded_sentences)"
   ]
  },
  {
   "cell_type": "code",
   "execution_count": 120,
   "metadata": {},
   "outputs": [],
   "source": [
    "result2=model.predict(padded_sentences)"
   ]
  },
  {
   "cell_type": "code",
   "execution_count": 121,
   "metadata": {},
   "outputs": [
    {
     "data": {
      "text/plain": [
       "array([1, 4, 3, ..., 4, 3, 3])"
      ]
     },
     "execution_count": 121,
     "metadata": {},
     "output_type": "execute_result"
    }
   ],
   "source": [
    "pred_result2 = (np.argmax(result2, axis=1))\n",
    "pred_result2"
   ]
  },
  {
   "cell_type": "code",
   "execution_count": 126,
   "metadata": {},
   "outputs": [
    {
     "data": {
      "text/plain": [
       "3    260843\n",
       "4    117487\n",
       "2     69514\n",
       "1     52797\n",
       "0     15802\n",
       "dtype: int64"
      ]
     },
     "execution_count": 126,
     "metadata": {},
     "output_type": "execute_result"
    }
   ],
   "source": [
    "counts = pd.value_counts(pred_result2)\n",
    "counts"
   ]
  },
  {
   "cell_type": "code",
   "execution_count": null,
   "metadata": {},
   "outputs": [],
   "source": [
    "#3:negative\n",
    "#0:emtremly naglitive\n",
    "#2:extremly positive\n",
    "#4:netural\n",
    "#1:positive"
   ]
  },
  {
   "cell_type": "code",
   "execution_count": 159,
   "metadata": {},
   "outputs": [],
   "source": [
    "comment['sentiment']=pd.DataFrame(pred_result2)"
   ]
  },
  {
   "cell_type": "code",
   "execution_count": 160,
   "metadata": {},
   "outputs": [
    {
     "data": {
      "text/html": [
       "<div>\n",
       "<style scoped>\n",
       "    .dataframe tbody tr th:only-of-type {\n",
       "        vertical-align: middle;\n",
       "    }\n",
       "\n",
       "    .dataframe tbody tr th {\n",
       "        vertical-align: top;\n",
       "    }\n",
       "\n",
       "    .dataframe thead th {\n",
       "        text-align: right;\n",
       "    }\n",
       "</style>\n",
       "<table border=\"1\" class=\"dataframe\">\n",
       "  <thead>\n",
       "    <tr style=\"text-align: right;\">\n",
       "      <th></th>\n",
       "      <th>Unnamed: 0</th>\n",
       "      <th>m_origin_id</th>\n",
       "      <th>u_id</th>\n",
       "      <th>r_id</th>\n",
       "      <th>r_content</th>\n",
       "      <th>g_publish_time</th>\n",
       "      <th>u_nickname</th>\n",
       "      <th>u_url</th>\n",
       "      <th>u_introduction</th>\n",
       "      <th>r_follow_num</th>\n",
       "      <th>r_fans_num</th>\n",
       "      <th>verified</th>\n",
       "      <th>u_login_time</th>\n",
       "      <th>u_area</th>\n",
       "      <th>name_binary</th>\n",
       "      <th>description_binary</th>\n",
       "      <th>location_binary</th>\n",
       "      <th>url_binary</th>\n",
       "      <th>result</th>\n",
       "      <th>sentiment</th>\n",
       "    </tr>\n",
       "  </thead>\n",
       "  <tbody>\n",
       "    <tr>\n",
       "      <th>0</th>\n",
       "      <td>0</td>\n",
       "      <td>1043334390850510976</td>\n",
       "      <td>24928470</td>\n",
       "      <td>1044083498854896000</td>\n",
       "      <td>@1DLowther @dcpoll @CNN Not tht I know of,</td>\n",
       "      <td>2018-09-24 12:37:58</td>\n",
       "      <td>yvonne</td>\n",
       "      <td>https://twitter.com/animalfriend1</td>\n",
       "      <td>Veterinary Professional,animal supporter,Scien...</td>\n",
       "      <td>2693</td>\n",
       "      <td>2089</td>\n",
       "      <td>0</td>\n",
       "      <td>2009-03-18 02:37:59</td>\n",
       "      <td>Fl</td>\n",
       "      <td>False</td>\n",
       "      <td>False</td>\n",
       "      <td>True</td>\n",
       "      <td>True</td>\n",
       "      <td>True</td>\n",
       "      <td>1</td>\n",
       "    </tr>\n",
       "    <tr>\n",
       "      <th>1</th>\n",
       "      <td>1</td>\n",
       "      <td>1043334390850510976</td>\n",
       "      <td>140166872</td>\n",
       "      <td>1043367165749916032</td>\n",
       "      <td>@BabyD_Rae @dcpoll @power2she @CNN They don't ...</td>\n",
       "      <td>2018-09-22 13:11:31</td>\n",
       "      <td>immigration detention = $770/night squalor</td>\n",
       "      <td>https://twitter.com/pookietooth</td>\n",
       "      <td>gov't should regulate co's &amp; protect us, not p...</td>\n",
       "      <td>8305</td>\n",
       "      <td>7332</td>\n",
       "      <td>0</td>\n",
       "      <td>2010-05-05 03:41:28</td>\n",
       "      <td>United States</td>\n",
       "      <td>False</td>\n",
       "      <td>False</td>\n",
       "      <td>True</td>\n",
       "      <td>True</td>\n",
       "      <td>True</td>\n",
       "      <td>4</td>\n",
       "    </tr>\n",
       "    <tr>\n",
       "      <th>2</th>\n",
       "      <td>2</td>\n",
       "      <td>1043334390850510976</td>\n",
       "      <td>308698101</td>\n",
       "      <td>1043353604499955968</td>\n",
       "      <td>@DwayneRude1 @dcpoll @CNN LMFAOOOOOOOOOOOO</td>\n",
       "      <td>2018-09-22 12:17:38</td>\n",
       "      <td>❄VerySpecialSnowFlake❄</td>\n",
       "      <td>https://twitter.com/miamidecor</td>\n",
       "      <td>Snowflake in Miami</td>\n",
       "      <td>7900</td>\n",
       "      <td>7028</td>\n",
       "      <td>0</td>\n",
       "      <td>2011-06-01 05:06:40</td>\n",
       "      <td>Stalking Zimmerman</td>\n",
       "      <td>False</td>\n",
       "      <td>False</td>\n",
       "      <td>True</td>\n",
       "      <td>True</td>\n",
       "      <td>True</td>\n",
       "      <td>3</td>\n",
       "    </tr>\n",
       "    <tr>\n",
       "      <th>3</th>\n",
       "      <td>3</td>\n",
       "      <td>1043334390850510976</td>\n",
       "      <td>831816535</td>\n",
       "      <td>1043340238893068032</td>\n",
       "      <td>@Enrico056 @dcpoll @CNN @GOP @ChuckGrassley Th...</td>\n",
       "      <td>2018-09-22 11:24:31</td>\n",
       "      <td>Patty Harbison</td>\n",
       "      <td>https://twitter.com/PattyHarbison</td>\n",
       "      <td>#TodaysHaiku Retired lawyer, HLS alum. Wife to...</td>\n",
       "      <td>964</td>\n",
       "      <td>1291</td>\n",
       "      <td>0</td>\n",
       "      <td>2012-09-19 04:20:37</td>\n",
       "      <td>Middle TN</td>\n",
       "      <td>False</td>\n",
       "      <td>False</td>\n",
       "      <td>True</td>\n",
       "      <td>True</td>\n",
       "      <td>True</td>\n",
       "      <td>1</td>\n",
       "    </tr>\n",
       "    <tr>\n",
       "      <th>4</th>\n",
       "      <td>4</td>\n",
       "      <td>1043334390850510976</td>\n",
       "      <td>833728731504013312</td>\n",
       "      <td>1043344963507868032</td>\n",
       "      <td>@KitchyItchy @dcpoll @CNN His weird little fla...</td>\n",
       "      <td>2018-09-22 11:43:18</td>\n",
       "      <td>A Middle Aged Lady in a Flyover State</td>\n",
       "      <td>https://twitter.com/AFlyover</td>\n",
       "      <td>I've installed a Xanax Salt Lick in every room...</td>\n",
       "      <td>4270</td>\n",
       "      <td>4205</td>\n",
       "      <td>0</td>\n",
       "      <td>2017-02-21 01:23:14</td>\n",
       "      <td>Middle of Nowhere</td>\n",
       "      <td>False</td>\n",
       "      <td>True</td>\n",
       "      <td>True</td>\n",
       "      <td>True</td>\n",
       "      <td>True</td>\n",
       "      <td>3</td>\n",
       "    </tr>\n",
       "  </tbody>\n",
       "</table>\n",
       "</div>"
      ],
      "text/plain": [
       "  Unnamed: 0          m_origin_id                u_id                 r_id  \\\n",
       "0          0  1043334390850510976            24928470  1044083498854896000   \n",
       "1          1  1043334390850510976           140166872  1043367165749916032   \n",
       "2          2  1043334390850510976           308698101  1043353604499955968   \n",
       "3          3  1043334390850510976           831816535  1043340238893068032   \n",
       "4          4  1043334390850510976  833728731504013312  1043344963507868032   \n",
       "\n",
       "                                           r_content       g_publish_time  \\\n",
       "0         @1DLowther @dcpoll @CNN Not tht I know of,  2018-09-24 12:37:58   \n",
       "1  @BabyD_Rae @dcpoll @power2she @CNN They don't ...  2018-09-22 13:11:31   \n",
       "2         @DwayneRude1 @dcpoll @CNN LMFAOOOOOOOOOOOO  2018-09-22 12:17:38   \n",
       "3  @Enrico056 @dcpoll @CNN @GOP @ChuckGrassley Th...  2018-09-22 11:24:31   \n",
       "4  @KitchyItchy @dcpoll @CNN His weird little fla...  2018-09-22 11:43:18   \n",
       "\n",
       "                                   u_nickname  \\\n",
       "0                                      yvonne   \n",
       "1  immigration detention = $770/night squalor   \n",
       "2                      ❄VerySpecialSnowFlake❄   \n",
       "3                              Patty Harbison   \n",
       "4       A Middle Aged Lady in a Flyover State   \n",
       "\n",
       "                               u_url  \\\n",
       "0  https://twitter.com/animalfriend1   \n",
       "1    https://twitter.com/pookietooth   \n",
       "2     https://twitter.com/miamidecor   \n",
       "3  https://twitter.com/PattyHarbison   \n",
       "4       https://twitter.com/AFlyover   \n",
       "\n",
       "                                      u_introduction r_follow_num r_fans_num  \\\n",
       "0  Veterinary Professional,animal supporter,Scien...         2693       2089   \n",
       "1  gov't should regulate co's & protect us, not p...         8305       7332   \n",
       "2                                 Snowflake in Miami         7900       7028   \n",
       "3  #TodaysHaiku Retired lawyer, HLS alum. Wife to...          964       1291   \n",
       "4  I've installed a Xanax Salt Lick in every room...         4270       4205   \n",
       "\n",
       "  verified         u_login_time              u_area name_binary  \\\n",
       "0        0  2009-03-18 02:37:59                  Fl       False   \n",
       "1        0  2010-05-05 03:41:28       United States       False   \n",
       "2        0  2011-06-01 05:06:40  Stalking Zimmerman       False   \n",
       "3        0  2012-09-19 04:20:37           Middle TN       False   \n",
       "4        0  2017-02-21 01:23:14   Middle of Nowhere       False   \n",
       "\n",
       "  description_binary location_binary url_binary result  sentiment  \n",
       "0              False            True       True   True          1  \n",
       "1              False            True       True   True          4  \n",
       "2              False            True       True   True          3  \n",
       "3              False            True       True   True          1  \n",
       "4               True            True       True   True          3  "
      ]
     },
     "execution_count": 160,
     "metadata": {},
     "output_type": "execute_result"
    }
   ],
   "source": [
    "comment.head()"
   ]
  },
  {
   "cell_type": "code",
   "execution_count": 161,
   "metadata": {},
   "outputs": [
    {
     "name": "stderr",
     "output_type": "stream",
     "text": [
      "<ipython-input-161-f309557c4401>:1: SettingWithCopyWarning: \n",
      "A value is trying to be set on a copy of a slice from a DataFrame\n",
      "\n",
      "See the caveats in the documentation: https://pandas.pydata.org/pandas-docs/stable/user_guide/indexing.html#returning-a-view-versus-a-copy\n",
      "  comment['sentiment'][comment['sentiment']==0]='em negative'\n"
     ]
    }
   ],
   "source": [
    "comment['sentiment'][comment['sentiment']==0]='em negative'\n",
    "comment['sentiment'][comment['sentiment']==1]='positive'\n",
    "comment['sentiment'][comment['sentiment']==2]='em positive'\n",
    "comment['sentiment'][comment['sentiment']==3]='negative'\n",
    "comment['sentiment'][comment['sentiment']==4]='netural'"
   ]
  },
  {
   "cell_type": "code",
   "execution_count": 162,
   "metadata": {},
   "outputs": [
    {
     "data": {
      "text/html": [
       "<div>\n",
       "<style scoped>\n",
       "    .dataframe tbody tr th:only-of-type {\n",
       "        vertical-align: middle;\n",
       "    }\n",
       "\n",
       "    .dataframe tbody tr th {\n",
       "        vertical-align: top;\n",
       "    }\n",
       "\n",
       "    .dataframe thead th {\n",
       "        text-align: right;\n",
       "    }\n",
       "</style>\n",
       "<table border=\"1\" class=\"dataframe\">\n",
       "  <thead>\n",
       "    <tr style=\"text-align: right;\">\n",
       "      <th></th>\n",
       "      <th>Unnamed: 0</th>\n",
       "      <th>m_origin_id</th>\n",
       "      <th>u_id</th>\n",
       "      <th>r_id</th>\n",
       "      <th>r_content</th>\n",
       "      <th>g_publish_time</th>\n",
       "      <th>u_nickname</th>\n",
       "      <th>u_url</th>\n",
       "      <th>u_introduction</th>\n",
       "      <th>r_follow_num</th>\n",
       "      <th>r_fans_num</th>\n",
       "      <th>verified</th>\n",
       "      <th>u_login_time</th>\n",
       "      <th>u_area</th>\n",
       "      <th>name_binary</th>\n",
       "      <th>description_binary</th>\n",
       "      <th>location_binary</th>\n",
       "      <th>url_binary</th>\n",
       "      <th>result</th>\n",
       "      <th>sentiment</th>\n",
       "    </tr>\n",
       "  </thead>\n",
       "  <tbody>\n",
       "    <tr>\n",
       "      <th>0</th>\n",
       "      <td>0</td>\n",
       "      <td>1043334390850510976</td>\n",
       "      <td>24928470</td>\n",
       "      <td>1044083498854896000</td>\n",
       "      <td>@1DLowther @dcpoll @CNN Not tht I know of,</td>\n",
       "      <td>2018-09-24 12:37:58</td>\n",
       "      <td>yvonne</td>\n",
       "      <td>https://twitter.com/animalfriend1</td>\n",
       "      <td>Veterinary Professional,animal supporter,Scien...</td>\n",
       "      <td>2693</td>\n",
       "      <td>2089</td>\n",
       "      <td>0</td>\n",
       "      <td>2009-03-18 02:37:59</td>\n",
       "      <td>Fl</td>\n",
       "      <td>False</td>\n",
       "      <td>False</td>\n",
       "      <td>True</td>\n",
       "      <td>True</td>\n",
       "      <td>True</td>\n",
       "      <td>positive</td>\n",
       "    </tr>\n",
       "    <tr>\n",
       "      <th>1</th>\n",
       "      <td>1</td>\n",
       "      <td>1043334390850510976</td>\n",
       "      <td>140166872</td>\n",
       "      <td>1043367165749916032</td>\n",
       "      <td>@BabyD_Rae @dcpoll @power2she @CNN They don't ...</td>\n",
       "      <td>2018-09-22 13:11:31</td>\n",
       "      <td>immigration detention = $770/night squalor</td>\n",
       "      <td>https://twitter.com/pookietooth</td>\n",
       "      <td>gov't should regulate co's &amp; protect us, not p...</td>\n",
       "      <td>8305</td>\n",
       "      <td>7332</td>\n",
       "      <td>0</td>\n",
       "      <td>2010-05-05 03:41:28</td>\n",
       "      <td>United States</td>\n",
       "      <td>False</td>\n",
       "      <td>False</td>\n",
       "      <td>True</td>\n",
       "      <td>True</td>\n",
       "      <td>True</td>\n",
       "      <td>netural</td>\n",
       "    </tr>\n",
       "    <tr>\n",
       "      <th>2</th>\n",
       "      <td>2</td>\n",
       "      <td>1043334390850510976</td>\n",
       "      <td>308698101</td>\n",
       "      <td>1043353604499955968</td>\n",
       "      <td>@DwayneRude1 @dcpoll @CNN LMFAOOOOOOOOOOOO</td>\n",
       "      <td>2018-09-22 12:17:38</td>\n",
       "      <td>❄VerySpecialSnowFlake❄</td>\n",
       "      <td>https://twitter.com/miamidecor</td>\n",
       "      <td>Snowflake in Miami</td>\n",
       "      <td>7900</td>\n",
       "      <td>7028</td>\n",
       "      <td>0</td>\n",
       "      <td>2011-06-01 05:06:40</td>\n",
       "      <td>Stalking Zimmerman</td>\n",
       "      <td>False</td>\n",
       "      <td>False</td>\n",
       "      <td>True</td>\n",
       "      <td>True</td>\n",
       "      <td>True</td>\n",
       "      <td>negative</td>\n",
       "    </tr>\n",
       "    <tr>\n",
       "      <th>3</th>\n",
       "      <td>3</td>\n",
       "      <td>1043334390850510976</td>\n",
       "      <td>831816535</td>\n",
       "      <td>1043340238893068032</td>\n",
       "      <td>@Enrico056 @dcpoll @CNN @GOP @ChuckGrassley Th...</td>\n",
       "      <td>2018-09-22 11:24:31</td>\n",
       "      <td>Patty Harbison</td>\n",
       "      <td>https://twitter.com/PattyHarbison</td>\n",
       "      <td>#TodaysHaiku Retired lawyer, HLS alum. Wife to...</td>\n",
       "      <td>964</td>\n",
       "      <td>1291</td>\n",
       "      <td>0</td>\n",
       "      <td>2012-09-19 04:20:37</td>\n",
       "      <td>Middle TN</td>\n",
       "      <td>False</td>\n",
       "      <td>False</td>\n",
       "      <td>True</td>\n",
       "      <td>True</td>\n",
       "      <td>True</td>\n",
       "      <td>positive</td>\n",
       "    </tr>\n",
       "    <tr>\n",
       "      <th>4</th>\n",
       "      <td>4</td>\n",
       "      <td>1043334390850510976</td>\n",
       "      <td>833728731504013312</td>\n",
       "      <td>1043344963507868032</td>\n",
       "      <td>@KitchyItchy @dcpoll @CNN His weird little fla...</td>\n",
       "      <td>2018-09-22 11:43:18</td>\n",
       "      <td>A Middle Aged Lady in a Flyover State</td>\n",
       "      <td>https://twitter.com/AFlyover</td>\n",
       "      <td>I've installed a Xanax Salt Lick in every room...</td>\n",
       "      <td>4270</td>\n",
       "      <td>4205</td>\n",
       "      <td>0</td>\n",
       "      <td>2017-02-21 01:23:14</td>\n",
       "      <td>Middle of Nowhere</td>\n",
       "      <td>False</td>\n",
       "      <td>True</td>\n",
       "      <td>True</td>\n",
       "      <td>True</td>\n",
       "      <td>True</td>\n",
       "      <td>negative</td>\n",
       "    </tr>\n",
       "  </tbody>\n",
       "</table>\n",
       "</div>"
      ],
      "text/plain": [
       "  Unnamed: 0          m_origin_id                u_id                 r_id  \\\n",
       "0          0  1043334390850510976            24928470  1044083498854896000   \n",
       "1          1  1043334390850510976           140166872  1043367165749916032   \n",
       "2          2  1043334390850510976           308698101  1043353604499955968   \n",
       "3          3  1043334390850510976           831816535  1043340238893068032   \n",
       "4          4  1043334390850510976  833728731504013312  1043344963507868032   \n",
       "\n",
       "                                           r_content       g_publish_time  \\\n",
       "0         @1DLowther @dcpoll @CNN Not tht I know of,  2018-09-24 12:37:58   \n",
       "1  @BabyD_Rae @dcpoll @power2she @CNN They don't ...  2018-09-22 13:11:31   \n",
       "2         @DwayneRude1 @dcpoll @CNN LMFAOOOOOOOOOOOO  2018-09-22 12:17:38   \n",
       "3  @Enrico056 @dcpoll @CNN @GOP @ChuckGrassley Th...  2018-09-22 11:24:31   \n",
       "4  @KitchyItchy @dcpoll @CNN His weird little fla...  2018-09-22 11:43:18   \n",
       "\n",
       "                                   u_nickname  \\\n",
       "0                                      yvonne   \n",
       "1  immigration detention = $770/night squalor   \n",
       "2                      ❄VerySpecialSnowFlake❄   \n",
       "3                              Patty Harbison   \n",
       "4       A Middle Aged Lady in a Flyover State   \n",
       "\n",
       "                               u_url  \\\n",
       "0  https://twitter.com/animalfriend1   \n",
       "1    https://twitter.com/pookietooth   \n",
       "2     https://twitter.com/miamidecor   \n",
       "3  https://twitter.com/PattyHarbison   \n",
       "4       https://twitter.com/AFlyover   \n",
       "\n",
       "                                      u_introduction r_follow_num r_fans_num  \\\n",
       "0  Veterinary Professional,animal supporter,Scien...         2693       2089   \n",
       "1  gov't should regulate co's & protect us, not p...         8305       7332   \n",
       "2                                 Snowflake in Miami         7900       7028   \n",
       "3  #TodaysHaiku Retired lawyer, HLS alum. Wife to...          964       1291   \n",
       "4  I've installed a Xanax Salt Lick in every room...         4270       4205   \n",
       "\n",
       "  verified         u_login_time              u_area name_binary  \\\n",
       "0        0  2009-03-18 02:37:59                  Fl       False   \n",
       "1        0  2010-05-05 03:41:28       United States       False   \n",
       "2        0  2011-06-01 05:06:40  Stalking Zimmerman       False   \n",
       "3        0  2012-09-19 04:20:37           Middle TN       False   \n",
       "4        0  2017-02-21 01:23:14   Middle of Nowhere       False   \n",
       "\n",
       "  description_binary location_binary url_binary result sentiment  \n",
       "0              False            True       True   True  positive  \n",
       "1              False            True       True   True   netural  \n",
       "2              False            True       True   True  negative  \n",
       "3              False            True       True   True  positive  \n",
       "4               True            True       True   True  negative  "
      ]
     },
     "execution_count": 162,
     "metadata": {},
     "output_type": "execute_result"
    }
   ],
   "source": [
    "comment.head()"
   ]
  },
  {
   "cell_type": "code",
   "execution_count": 164,
   "metadata": {},
   "outputs": [],
   "source": [
    "comment['sentiment'].replace({\"em negative\": 0, \"negative\": 1,'netural':2,'positive':3,'em positive':4}, inplace=True)"
   ]
  },
  {
   "cell_type": "code",
   "execution_count": 165,
   "metadata": {},
   "outputs": [
    {
     "data": {
      "text/html": [
       "<div>\n",
       "<style scoped>\n",
       "    .dataframe tbody tr th:only-of-type {\n",
       "        vertical-align: middle;\n",
       "    }\n",
       "\n",
       "    .dataframe tbody tr th {\n",
       "        vertical-align: top;\n",
       "    }\n",
       "\n",
       "    .dataframe thead th {\n",
       "        text-align: right;\n",
       "    }\n",
       "</style>\n",
       "<table border=\"1\" class=\"dataframe\">\n",
       "  <thead>\n",
       "    <tr style=\"text-align: right;\">\n",
       "      <th></th>\n",
       "      <th>Unnamed: 0</th>\n",
       "      <th>m_origin_id</th>\n",
       "      <th>u_id</th>\n",
       "      <th>r_id</th>\n",
       "      <th>r_content</th>\n",
       "      <th>g_publish_time</th>\n",
       "      <th>u_nickname</th>\n",
       "      <th>u_url</th>\n",
       "      <th>u_introduction</th>\n",
       "      <th>r_follow_num</th>\n",
       "      <th>r_fans_num</th>\n",
       "      <th>verified</th>\n",
       "      <th>u_login_time</th>\n",
       "      <th>u_area</th>\n",
       "      <th>name_binary</th>\n",
       "      <th>description_binary</th>\n",
       "      <th>location_binary</th>\n",
       "      <th>url_binary</th>\n",
       "      <th>result</th>\n",
       "      <th>sentiment</th>\n",
       "    </tr>\n",
       "  </thead>\n",
       "  <tbody>\n",
       "    <tr>\n",
       "      <th>0</th>\n",
       "      <td>0</td>\n",
       "      <td>1043334390850510976</td>\n",
       "      <td>24928470</td>\n",
       "      <td>1044083498854896000</td>\n",
       "      <td>@1DLowther @dcpoll @CNN Not tht I know of,</td>\n",
       "      <td>2018-09-24 12:37:58</td>\n",
       "      <td>yvonne</td>\n",
       "      <td>https://twitter.com/animalfriend1</td>\n",
       "      <td>Veterinary Professional,animal supporter,Scien...</td>\n",
       "      <td>2693</td>\n",
       "      <td>2089</td>\n",
       "      <td>0</td>\n",
       "      <td>2009-03-18 02:37:59</td>\n",
       "      <td>Fl</td>\n",
       "      <td>False</td>\n",
       "      <td>False</td>\n",
       "      <td>True</td>\n",
       "      <td>True</td>\n",
       "      <td>True</td>\n",
       "      <td>3</td>\n",
       "    </tr>\n",
       "    <tr>\n",
       "      <th>1</th>\n",
       "      <td>1</td>\n",
       "      <td>1043334390850510976</td>\n",
       "      <td>140166872</td>\n",
       "      <td>1043367165749916032</td>\n",
       "      <td>@BabyD_Rae @dcpoll @power2she @CNN They don't ...</td>\n",
       "      <td>2018-09-22 13:11:31</td>\n",
       "      <td>immigration detention = $770/night squalor</td>\n",
       "      <td>https://twitter.com/pookietooth</td>\n",
       "      <td>gov't should regulate co's &amp; protect us, not p...</td>\n",
       "      <td>8305</td>\n",
       "      <td>7332</td>\n",
       "      <td>0</td>\n",
       "      <td>2010-05-05 03:41:28</td>\n",
       "      <td>United States</td>\n",
       "      <td>False</td>\n",
       "      <td>False</td>\n",
       "      <td>True</td>\n",
       "      <td>True</td>\n",
       "      <td>True</td>\n",
       "      <td>2</td>\n",
       "    </tr>\n",
       "    <tr>\n",
       "      <th>2</th>\n",
       "      <td>2</td>\n",
       "      <td>1043334390850510976</td>\n",
       "      <td>308698101</td>\n",
       "      <td>1043353604499955968</td>\n",
       "      <td>@DwayneRude1 @dcpoll @CNN LMFAOOOOOOOOOOOO</td>\n",
       "      <td>2018-09-22 12:17:38</td>\n",
       "      <td>❄VerySpecialSnowFlake❄</td>\n",
       "      <td>https://twitter.com/miamidecor</td>\n",
       "      <td>Snowflake in Miami</td>\n",
       "      <td>7900</td>\n",
       "      <td>7028</td>\n",
       "      <td>0</td>\n",
       "      <td>2011-06-01 05:06:40</td>\n",
       "      <td>Stalking Zimmerman</td>\n",
       "      <td>False</td>\n",
       "      <td>False</td>\n",
       "      <td>True</td>\n",
       "      <td>True</td>\n",
       "      <td>True</td>\n",
       "      <td>1</td>\n",
       "    </tr>\n",
       "    <tr>\n",
       "      <th>3</th>\n",
       "      <td>3</td>\n",
       "      <td>1043334390850510976</td>\n",
       "      <td>831816535</td>\n",
       "      <td>1043340238893068032</td>\n",
       "      <td>@Enrico056 @dcpoll @CNN @GOP @ChuckGrassley Th...</td>\n",
       "      <td>2018-09-22 11:24:31</td>\n",
       "      <td>Patty Harbison</td>\n",
       "      <td>https://twitter.com/PattyHarbison</td>\n",
       "      <td>#TodaysHaiku Retired lawyer, HLS alum. Wife to...</td>\n",
       "      <td>964</td>\n",
       "      <td>1291</td>\n",
       "      <td>0</td>\n",
       "      <td>2012-09-19 04:20:37</td>\n",
       "      <td>Middle TN</td>\n",
       "      <td>False</td>\n",
       "      <td>False</td>\n",
       "      <td>True</td>\n",
       "      <td>True</td>\n",
       "      <td>True</td>\n",
       "      <td>3</td>\n",
       "    </tr>\n",
       "    <tr>\n",
       "      <th>4</th>\n",
       "      <td>4</td>\n",
       "      <td>1043334390850510976</td>\n",
       "      <td>833728731504013312</td>\n",
       "      <td>1043344963507868032</td>\n",
       "      <td>@KitchyItchy @dcpoll @CNN His weird little fla...</td>\n",
       "      <td>2018-09-22 11:43:18</td>\n",
       "      <td>A Middle Aged Lady in a Flyover State</td>\n",
       "      <td>https://twitter.com/AFlyover</td>\n",
       "      <td>I've installed a Xanax Salt Lick in every room...</td>\n",
       "      <td>4270</td>\n",
       "      <td>4205</td>\n",
       "      <td>0</td>\n",
       "      <td>2017-02-21 01:23:14</td>\n",
       "      <td>Middle of Nowhere</td>\n",
       "      <td>False</td>\n",
       "      <td>True</td>\n",
       "      <td>True</td>\n",
       "      <td>True</td>\n",
       "      <td>True</td>\n",
       "      <td>1</td>\n",
       "    </tr>\n",
       "  </tbody>\n",
       "</table>\n",
       "</div>"
      ],
      "text/plain": [
       "  Unnamed: 0          m_origin_id                u_id                 r_id  \\\n",
       "0          0  1043334390850510976            24928470  1044083498854896000   \n",
       "1          1  1043334390850510976           140166872  1043367165749916032   \n",
       "2          2  1043334390850510976           308698101  1043353604499955968   \n",
       "3          3  1043334390850510976           831816535  1043340238893068032   \n",
       "4          4  1043334390850510976  833728731504013312  1043344963507868032   \n",
       "\n",
       "                                           r_content       g_publish_time  \\\n",
       "0         @1DLowther @dcpoll @CNN Not tht I know of,  2018-09-24 12:37:58   \n",
       "1  @BabyD_Rae @dcpoll @power2she @CNN They don't ...  2018-09-22 13:11:31   \n",
       "2         @DwayneRude1 @dcpoll @CNN LMFAOOOOOOOOOOOO  2018-09-22 12:17:38   \n",
       "3  @Enrico056 @dcpoll @CNN @GOP @ChuckGrassley Th...  2018-09-22 11:24:31   \n",
       "4  @KitchyItchy @dcpoll @CNN His weird little fla...  2018-09-22 11:43:18   \n",
       "\n",
       "                                   u_nickname  \\\n",
       "0                                      yvonne   \n",
       "1  immigration detention = $770/night squalor   \n",
       "2                      ❄VerySpecialSnowFlake❄   \n",
       "3                              Patty Harbison   \n",
       "4       A Middle Aged Lady in a Flyover State   \n",
       "\n",
       "                               u_url  \\\n",
       "0  https://twitter.com/animalfriend1   \n",
       "1    https://twitter.com/pookietooth   \n",
       "2     https://twitter.com/miamidecor   \n",
       "3  https://twitter.com/PattyHarbison   \n",
       "4       https://twitter.com/AFlyover   \n",
       "\n",
       "                                      u_introduction r_follow_num r_fans_num  \\\n",
       "0  Veterinary Professional,animal supporter,Scien...         2693       2089   \n",
       "1  gov't should regulate co's & protect us, not p...         8305       7332   \n",
       "2                                 Snowflake in Miami         7900       7028   \n",
       "3  #TodaysHaiku Retired lawyer, HLS alum. Wife to...          964       1291   \n",
       "4  I've installed a Xanax Salt Lick in every room...         4270       4205   \n",
       "\n",
       "  verified         u_login_time              u_area name_binary  \\\n",
       "0        0  2009-03-18 02:37:59                  Fl       False   \n",
       "1        0  2010-05-05 03:41:28       United States       False   \n",
       "2        0  2011-06-01 05:06:40  Stalking Zimmerman       False   \n",
       "3        0  2012-09-19 04:20:37           Middle TN       False   \n",
       "4        0  2017-02-21 01:23:14   Middle of Nowhere       False   \n",
       "\n",
       "  description_binary location_binary url_binary result  sentiment  \n",
       "0              False            True       True   True          3  \n",
       "1              False            True       True   True          2  \n",
       "2              False            True       True   True          1  \n",
       "3              False            True       True   True          3  \n",
       "4               True            True       True   True          1  "
      ]
     },
     "execution_count": 165,
     "metadata": {},
     "output_type": "execute_result"
    }
   ],
   "source": [
    "comment.head()"
   ]
  },
  {
   "cell_type": "code",
   "execution_count": 166,
   "metadata": {},
   "outputs": [
    {
     "data": {
      "text/html": [
       "<div>\n",
       "<style scoped>\n",
       "    .dataframe tbody tr th:only-of-type {\n",
       "        vertical-align: middle;\n",
       "    }\n",
       "\n",
       "    .dataframe tbody tr th {\n",
       "        vertical-align: top;\n",
       "    }\n",
       "\n",
       "    .dataframe thead th {\n",
       "        text-align: right;\n",
       "    }\n",
       "</style>\n",
       "<table border=\"1\" class=\"dataframe\">\n",
       "  <thead>\n",
       "    <tr style=\"text-align: right;\">\n",
       "      <th></th>\n",
       "      <th>m_origin_id</th>\n",
       "      <th>sentiment</th>\n",
       "    </tr>\n",
       "  </thead>\n",
       "  <tbody>\n",
       "    <tr>\n",
       "      <th>0</th>\n",
       "      <td>268147222116454400</td>\n",
       "      <td>1.788546</td>\n",
       "    </tr>\n",
       "    <tr>\n",
       "      <th>1</th>\n",
       "      <td>1043334390850510976</td>\n",
       "      <td>1.982456</td>\n",
       "    </tr>\n",
       "    <tr>\n",
       "      <th>2</th>\n",
       "      <td>1187829299207953920</td>\n",
       "      <td>1.683486</td>\n",
       "    </tr>\n",
       "    <tr>\n",
       "      <th>3</th>\n",
       "      <td>1217043229427760896</td>\n",
       "      <td>1.834101</td>\n",
       "    </tr>\n",
       "    <tr>\n",
       "      <th>4</th>\n",
       "      <td>1218450660989001984</td>\n",
       "      <td>1.765217</td>\n",
       "    </tr>\n",
       "  </tbody>\n",
       "</table>\n",
       "</div>"
      ],
      "text/plain": [
       "           m_origin_id  sentiment\n",
       "0   268147222116454400   1.788546\n",
       "1  1043334390850510976   1.982456\n",
       "2  1187829299207953920   1.683486\n",
       "3  1217043229427760896   1.834101\n",
       "4  1218450660989001984   1.765217"
      ]
     },
     "execution_count": 166,
     "metadata": {},
     "output_type": "execute_result"
    }
   ],
   "source": [
    "comment_sentiment=comment.groupby(['m_origin_id']).agg({'sentiment':np.mean}).reset_index()\n",
    "comment_sentiment.head()"
   ]
  },
  {
   "cell_type": "code",
   "execution_count": 167,
   "metadata": {},
   "outputs": [],
   "source": [
    "comment_sentiment['m_origin_id'] = comment_sentiment.apply(lambda x: '%d' % (x['m_origin_id']), axis=1).astype(str)\n",
    "comment_sentiment.to_excel('/Users/lin/Desktop/personal/mydata/comment_sentiment.xlsx')"
   ]
  },
  {
   "cell_type": "code",
   "execution_count": null,
   "metadata": {},
   "outputs": [],
   "source": []
  }
 ],
 "metadata": {
  "kernelspec": {
   "display_name": "Python 3",
   "language": "python",
   "name": "python3"
  },
  "language_info": {
   "codemirror_mode": {
    "name": "ipython",
    "version": 3
   },
   "file_extension": ".py",
   "mimetype": "text/x-python",
   "name": "python",
   "nbconvert_exporter": "python",
   "pygments_lexer": "ipython3",
   "version": "3.8.3"
  }
 },
 "nbformat": 4,
 "nbformat_minor": 4
}
